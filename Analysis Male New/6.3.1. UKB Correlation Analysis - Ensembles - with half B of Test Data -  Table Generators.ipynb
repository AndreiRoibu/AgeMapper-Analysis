version https://git-lfs.github.com/spec/v1
oid sha256:97ee27f525e433477225f790c49e7f93b3262c8022a0b03ed9b358070d471dbe
size 89044
