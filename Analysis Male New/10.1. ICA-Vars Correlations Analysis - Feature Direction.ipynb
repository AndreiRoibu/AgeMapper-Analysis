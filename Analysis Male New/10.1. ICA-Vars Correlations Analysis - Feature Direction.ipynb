{
 "cells": [
  {
   "cell_type": "code",
   "execution_count": 1,
   "metadata": {},
   "outputs": [],
   "source": [
    "import numpy as np\n",
    "import pandas as pd\n",
    "from scipy import stats\n",
    "import sys\n",
    "import argparse\n",
    "import h5py\n",
    "from scipy.stats import t as student_t\n",
    "from statsmodels.stats import multitest as mt\n",
    "import matplotlib.pyplot as plt\n",
    "import seaborn as sns\n",
    "sns.set()"
   ]
  },
  {
   "cell_type": "code",
   "execution_count": 2,
   "metadata": {},
   "outputs": [],
   "source": [
    "# IDP_df = pd.read_pickle('male_IDP_prototype.pkl')\n",
    "# vars_df = pd.read_pickle('male_vars_prototype.pkl')\n",
    "\n",
    "# IDP_df = pd.read_pickle('male_feature_direction_ICA_deltas_IDP_deconf.pkl')\n",
    "vars_df = pd.read_pickle('male_feature_direction_ICA_deltas_nIDP_deconf.pkl')\n",
    "\n",
    "IDP_names = np.loadtxt(\"IDP_names.txt\", dtype=str, delimiter='\\n')\n",
    "IDP_categories = np.loadtxt(\"IDP_categories.txt\", dtype=str, delimiter='\\n')\n",
    "with open('varsHeader.txt') as f:\n",
    "    varsHeader = f.readlines()\n",
    "    varsHeader = [l.strip('\\n\\r') for l in varsHeader]\n",
    "    varsHeader = np.array(varsHeader)\n",
    "vars_categories = np.loadtxt(\"vars_categories.txt\", dtype=str, delimiter='\\n')"
   ]
  },
  {
   "cell_type": "code",
   "execution_count": 3,
   "metadata": {},
   "outputs": [
    {
     "data": {
      "text/html": [
       "<div>\n",
       "<style scoped>\n",
       "    .dataframe tbody tr th:only-of-type {\n",
       "        vertical-align: middle;\n",
       "    }\n",
       "\n",
       "    .dataframe tbody tr th {\n",
       "        vertical-align: top;\n",
       "    }\n",
       "\n",
       "    .dataframe thead th {\n",
       "        text-align: right;\n",
       "    }\n",
       "</style>\n",
       "<table border=\"1\" class=\"dataframe\">\n",
       "  <thead>\n",
       "    <tr style=\"text-align: right;\">\n",
       "      <th></th>\n",
       "      <th>modality</th>\n",
       "      <th>bonf</th>\n",
       "      <th>fdr</th>\n",
       "      <th>dataframe</th>\n",
       "    </tr>\n",
       "  </thead>\n",
       "  <tbody>\n",
       "    <tr>\n",
       "      <th>0</th>\n",
       "      <td>IC = 0</td>\n",
       "      <td>5.508233</td>\n",
       "      <td>NaN</td>\n",
       "      <td>idx                                  ...</td>\n",
       "    </tr>\n",
       "    <tr>\n",
       "      <th>1</th>\n",
       "      <td>IC = 1</td>\n",
       "      <td>5.508233</td>\n",
       "      <td>NaN</td>\n",
       "      <td>idx                                  ...</td>\n",
       "    </tr>\n",
       "    <tr>\n",
       "      <th>2</th>\n",
       "      <td>IC = 2</td>\n",
       "      <td>5.508233</td>\n",
       "      <td>NaN</td>\n",
       "      <td>idx                                  ...</td>\n",
       "    </tr>\n",
       "    <tr>\n",
       "      <th>3</th>\n",
       "      <td>IC = 3</td>\n",
       "      <td>5.508233</td>\n",
       "      <td>NaN</td>\n",
       "      <td>idx                                  ...</td>\n",
       "    </tr>\n",
       "    <tr>\n",
       "      <th>4</th>\n",
       "      <td>IC = 4</td>\n",
       "      <td>5.508233</td>\n",
       "      <td>NaN</td>\n",
       "      <td>idx                                  ...</td>\n",
       "    </tr>\n",
       "  </tbody>\n",
       "</table>\n",
       "</div>"
      ],
      "text/plain": [
       "  modality      bonf  fdr                                          dataframe\n",
       "0   IC = 0  5.508233  NaN           idx                                  ...\n",
       "1   IC = 1  5.508233  NaN           idx                                  ...\n",
       "2   IC = 2  5.508233  NaN           idx                                  ...\n",
       "3   IC = 3  5.508233  NaN           idx                                  ...\n",
       "4   IC = 4  5.508233  NaN           idx                                  ..."
      ]
     },
     "execution_count": 3,
     "metadata": {},
     "output_type": "execute_result"
    }
   ],
   "source": [
    "vars_df.head()"
   ]
  },
  {
   "cell_type": "code",
   "execution_count": 4,
   "metadata": {},
   "outputs": [
    {
     "data": {
      "text/html": [
       "<div>\n",
       "<style scoped>\n",
       "    .dataframe tbody tr th:only-of-type {\n",
       "        vertical-align: middle;\n",
       "    }\n",
       "\n",
       "    .dataframe tbody tr th {\n",
       "        vertical-align: top;\n",
       "    }\n",
       "\n",
       "    .dataframe thead th {\n",
       "        text-align: right;\n",
       "    }\n",
       "</style>\n",
       "<table border=\"1\" class=\"dataframe\">\n",
       "  <thead>\n",
       "    <tr style=\"text-align: right;\">\n",
       "      <th></th>\n",
       "      <th>idx</th>\n",
       "      <th>names</th>\n",
       "      <th>Categories</th>\n",
       "      <th>pearson_r</th>\n",
       "      <th>t_test_statistic</th>\n",
       "      <th>p_values_corrected</th>\n",
       "      <th>p_values</th>\n",
       "      <th>abs_pearson_r</th>\n",
       "      <th>log_p_values</th>\n",
       "      <th>log_p_values_corrected</th>\n",
       "    </tr>\n",
       "  </thead>\n",
       "  <tbody>\n",
       "    <tr>\n",
       "      <th>0</th>\n",
       "      <td>0</td>\n",
       "      <td>Ethnic background (0.0)</td>\n",
       "      <td>Ethnic Background</td>\n",
       "      <td>-0.032392</td>\n",
       "      <td>2.137514</td>\n",
       "      <td>0.888484</td>\n",
       "      <td>0.032612</td>\n",
       "      <td>0.032392</td>\n",
       "      <td>1.486625</td>\n",
       "      <td>0.051350</td>\n",
       "    </tr>\n",
       "    <tr>\n",
       "      <th>1</th>\n",
       "      <td>1</td>\n",
       "      <td>Ethnic background (1.0)</td>\n",
       "      <td>Ethnic Background</td>\n",
       "      <td>-0.052775</td>\n",
       "      <td>1.454047</td>\n",
       "      <td>0.998429</td>\n",
       "      <td>0.146348</td>\n",
       "      <td>0.052775</td>\n",
       "      <td>0.834614</td>\n",
       "      <td>0.000683</td>\n",
       "    </tr>\n",
       "    <tr>\n",
       "      <th>2</th>\n",
       "      <td>2</td>\n",
       "      <td>Ethnic background (2.0)</td>\n",
       "      <td>Ethnic Background</td>\n",
       "      <td>0.014045</td>\n",
       "      <td>0.510332</td>\n",
       "      <td>1.000000</td>\n",
       "      <td>0.609904</td>\n",
       "      <td>0.014045</td>\n",
       "      <td>0.214739</td>\n",
       "      <td>-0.000000</td>\n",
       "    </tr>\n",
       "    <tr>\n",
       "      <th>3</th>\n",
       "      <td>3</td>\n",
       "      <td>Genotype measurement batch (0.0)</td>\n",
       "      <td>Genetic Markers</td>\n",
       "      <td>-0.021782</td>\n",
       "      <td>1.423989</td>\n",
       "      <td>1.000000</td>\n",
       "      <td>0.154523</td>\n",
       "      <td>0.021782</td>\n",
       "      <td>0.811007</td>\n",
       "      <td>-0.000000</td>\n",
       "    </tr>\n",
       "    <tr>\n",
       "      <th>4</th>\n",
       "      <td>4</td>\n",
       "      <td>Heterozygosity (0.0)</td>\n",
       "      <td>Genetic Markers</td>\n",
       "      <td>0.017608</td>\n",
       "      <td>1.151043</td>\n",
       "      <td>1.000000</td>\n",
       "      <td>0.249779</td>\n",
       "      <td>0.017608</td>\n",
       "      <td>0.602444</td>\n",
       "      <td>-0.000000</td>\n",
       "    </tr>\n",
       "  </tbody>\n",
       "</table>\n",
       "</div>"
      ],
      "text/plain": [
       "   idx                             names         Categories  pearson_r  \\\n",
       "0    0           Ethnic background (0.0)  Ethnic Background  -0.032392   \n",
       "1    1           Ethnic background (1.0)  Ethnic Background  -0.052775   \n",
       "2    2           Ethnic background (2.0)  Ethnic Background   0.014045   \n",
       "3    3  Genotype measurement batch (0.0)    Genetic Markers  -0.021782   \n",
       "4    4              Heterozygosity (0.0)    Genetic Markers   0.017608   \n",
       "\n",
       "   t_test_statistic  p_values_corrected  p_values  abs_pearson_r  \\\n",
       "0          2.137514            0.888484  0.032612       0.032392   \n",
       "1          1.454047            0.998429  0.146348       0.052775   \n",
       "2          0.510332            1.000000  0.609904       0.014045   \n",
       "3          1.423989            1.000000  0.154523       0.021782   \n",
       "4          1.151043            1.000000  0.249779       0.017608   \n",
       "\n",
       "   log_p_values  log_p_values_corrected  \n",
       "0      1.486625                0.051350  \n",
       "1      0.834614                0.000683  \n",
       "2      0.214739               -0.000000  \n",
       "3      0.811007               -0.000000  \n",
       "4      0.602444               -0.000000  "
      ]
     },
     "execution_count": 4,
     "metadata": {},
     "output_type": "execute_result"
    }
   ],
   "source": [
    "vars_df.iloc[0].dataframe.head()"
   ]
  },
  {
   "cell_type": "code",
   "execution_count": 5,
   "metadata": {},
   "outputs": [],
   "source": [
    "vars_over_bThr_list = []\n",
    "\n",
    "for idx in range(len(vars_df)):\n",
    "    df = vars_df.iloc[idx].dataframe\n",
    "    bThr = vars_df.iloc[idx].bonf\n",
    "    vars_over_bThr = df[df.log_p_values>=bThr].sort_values('log_p_values', ascending=False).names.to_list()\n",
    "    for var in vars_over_bThr:\n",
    "        vars_over_bThr_list.append(var)"
   ]
  },
  {
   "cell_type": "code",
   "execution_count": 6,
   "metadata": {},
   "outputs": [
    {
     "name": "stdout",
     "output_type": "stream",
     "text": [
      "Number of unique vars across all modalities:  2\n"
     ]
    }
   ],
   "source": [
    "print(\"Number of unique vars across all modalities: \", len(set(vars_over_bThr_list)))"
   ]
  },
  {
   "cell_type": "code",
   "execution_count": 7,
   "metadata": {},
   "outputs": [],
   "source": [
    "unique_vars_over_bTHr = list(set(vars_over_bThr_list))"
   ]
  },
  {
   "cell_type": "code",
   "execution_count": 8,
   "metadata": {},
   "outputs": [],
   "source": [
    "unique_vars_over_bThr_categories = []\n",
    "\n",
    "for var in unique_vars_over_bTHr:\n",
    "    idx = list(varsHeader).index(var)\n",
    "    category = vars_categories[idx]\n",
    "    unique_vars_over_bThr_categories.append(category)"
   ]
  },
  {
   "cell_type": "code",
   "execution_count": 9,
   "metadata": {},
   "outputs": [
    {
     "data": {
      "text/plain": [
       "['L1-L4 BMD (bone mineral density) (2.0)',\n",
       " 'Spine BMD (bone mineral density) (2.0)']"
      ]
     },
     "execution_count": 9,
     "metadata": {},
     "output_type": "execute_result"
    }
   ],
   "source": [
    "sorted(unique_vars_over_bTHr)"
   ]
  },
  {
   "cell_type": "code",
   "execution_count": 10,
   "metadata": {},
   "outputs": [],
   "source": [
    "modalities = []\n",
    "pearson_rs_list = []\n",
    "for var in unique_vars_over_bTHr:\n",
    "    modalities_with_var = []\n",
    "    pearsonRs_with_var = []\n",
    "    for idx in range(len(vars_df)):\n",
    "        df = vars_df.iloc[idx].dataframe\n",
    "        modality = vars_df.iloc[idx].modality\n",
    "        bThr = vars_df.iloc[idx].bonf\n",
    "        df = df[df.log_p_values>=bThr].sort_values('log_p_values', ascending=False)\n",
    "        vars_over_bThr = df.names.to_list()\n",
    "        pearson_r_over_bThr = df.pearson_r.to_list()\n",
    "        if var in vars_over_bThr:\n",
    "            modalities_with_var.append(modality)\n",
    "            pearsonRs_with_var.append(pearson_r_over_bThr[vars_over_bThr.index(var)])\n",
    "    modalities.append(modalities_with_var)\n",
    "    pearson_rs_list.append(pearsonRs_with_var)"
   ]
  },
  {
   "cell_type": "code",
   "execution_count": 11,
   "metadata": {},
   "outputs": [
    {
     "data": {
      "text/plain": [
       "2"
      ]
     },
     "execution_count": 11,
     "metadata": {},
     "output_type": "execute_result"
    }
   ],
   "source": [
    "len(modalities)"
   ]
  },
  {
   "cell_type": "code",
   "execution_count": 12,
   "metadata": {},
   "outputs": [],
   "source": [
    "df_vars_over_bThr = pd.DataFrame.from_dict({\n",
    "    'names': unique_vars_over_bTHr,\n",
    "    'Categories': unique_vars_over_bThr_categories,\n",
    "    'modalities': modalities,\n",
    "    'pearson_r': pearson_rs_list\n",
    "})"
   ]
  },
  {
   "cell_type": "code",
   "execution_count": 13,
   "metadata": {},
   "outputs": [
    {
     "data": {
      "text/html": [
       "<div>\n",
       "<style scoped>\n",
       "    .dataframe tbody tr th:only-of-type {\n",
       "        vertical-align: middle;\n",
       "    }\n",
       "\n",
       "    .dataframe tbody tr th {\n",
       "        vertical-align: top;\n",
       "    }\n",
       "\n",
       "    .dataframe thead th {\n",
       "        text-align: right;\n",
       "    }\n",
       "</style>\n",
       "<table border=\"1\" class=\"dataframe\">\n",
       "  <thead>\n",
       "    <tr style=\"text-align: right;\">\n",
       "      <th></th>\n",
       "      <th>names</th>\n",
       "      <th>Categories</th>\n",
       "      <th>modalities</th>\n",
       "      <th>pearson_r</th>\n",
       "    </tr>\n",
       "  </thead>\n",
       "  <tbody>\n",
       "    <tr>\n",
       "      <th>0</th>\n",
       "      <td>L1-L4 BMD (bone mineral density) (2.0)</td>\n",
       "      <td>Skeletal Measurements</td>\n",
       "      <td>[IC = 12]</td>\n",
       "      <td>[0.07746973577315898]</td>\n",
       "    </tr>\n",
       "    <tr>\n",
       "      <th>1</th>\n",
       "      <td>Spine BMD (bone mineral density) (2.0)</td>\n",
       "      <td>Skeletal Measurements</td>\n",
       "      <td>[IC = 12]</td>\n",
       "      <td>[0.07621348354092904]</td>\n",
       "    </tr>\n",
       "  </tbody>\n",
       "</table>\n",
       "</div>"
      ],
      "text/plain": [
       "                                    names             Categories modalities  \\\n",
       "0  L1-L4 BMD (bone mineral density) (2.0)  Skeletal Measurements  [IC = 12]   \n",
       "1  Spine BMD (bone mineral density) (2.0)  Skeletal Measurements  [IC = 12]   \n",
       "\n",
       "               pearson_r  \n",
       "0  [0.07746973577315898]  \n",
       "1  [0.07621348354092904]  "
      ]
     },
     "execution_count": 13,
     "metadata": {},
     "output_type": "execute_result"
    }
   ],
   "source": [
    "df_vars_over_bThr.head()"
   ]
  },
  {
   "cell_type": "code",
   "execution_count": 14,
   "metadata": {},
   "outputs": [
    {
     "data": {
      "text/plain": [
       "{'Skeletal Measurements'}"
      ]
     },
     "execution_count": 14,
     "metadata": {},
     "output_type": "execute_result"
    }
   ],
   "source": [
    "set(df_vars_over_bThr.Categories.to_list())"
   ]
  },
  {
   "cell_type": "code",
   "execution_count": 15,
   "metadata": {
    "scrolled": true
   },
   "outputs": [
    {
     "name": "stdout",
     "output_type": "stream",
     "text": [
      "Category: Skeletal Measurements\n",
      "------------------------------------------------\n",
      "Var: L1-L4 BMD (bone mineral density) (2.0)\n",
      "   Modalities:\n",
      "   -> IC = 12 (0.077)\n",
      "Var: Spine BMD (bone mineral density) (2.0)\n",
      "   Modalities:\n",
      "   -> IC = 12 (0.076)\n",
      "\n",
      "\n"
     ]
    }
   ],
   "source": [
    "for cat in sorted(list(set(df_vars_over_bThr.Categories.to_list()))):\n",
    "    print(\"Category: {}\".format(cat))\n",
    "    print('------------------------------------------------')\n",
    "    names = df_vars_over_bThr[df_vars_over_bThr.Categories == cat].names.to_list()\n",
    "    for name in sorted(names):\n",
    "        print('Var: {}'.format(name))\n",
    "        mods = df_vars_over_bThr[(df_vars_over_bThr.Categories == cat) & (df_vars_over_bThr.names == name)].modalities.to_list()\n",
    "        prs = df_vars_over_bThr[(df_vars_over_bThr.Categories == cat) & (df_vars_over_bThr.names == name)].pearson_r.to_list()\n",
    "        print('   Modalities:')\n",
    "        for i, mod in enumerate(mods[0]):\n",
    "            print('   -> {} ({:.3f})'.format(mod, prs[0][i]))\n",
    "        \n",
    "    print('\\n')"
   ]
  },
  {
   "cell_type": "code",
   "execution_count": 16,
   "metadata": {},
   "outputs": [
    {
     "data": {
      "text/plain": [
       "[0.07621348354092904]"
      ]
     },
     "execution_count": 16,
     "metadata": {},
     "output_type": "execute_result"
    }
   ],
   "source": [
    "sorted(prs[0], reverse=True)"
   ]
  },
  {
   "cell_type": "code",
   "execution_count": 17,
   "metadata": {
    "scrolled": true
   },
   "outputs": [
    {
     "name": "stdout",
     "output_type": "stream",
     "text": [
      "Category: Skeletal Measurements\n",
      "------------------------------------------------\n",
      "Var: L1-L4 BMD (bone mineral density) (2.0)\n",
      "   Modalities:\n",
      "   -> IC = 12 (0.077)\n",
      "Var: Spine BMD (bone mineral density) (2.0)\n",
      "   Modalities:\n",
      "   -> IC = 12 (0.076)\n",
      "\n",
      "\n"
     ]
    }
   ],
   "source": [
    "for cat in sorted(list(set(df_vars_over_bThr.Categories.to_list()))):\n",
    "    print(\"Category: {}\".format(cat))\n",
    "    print('------------------------------------------------')\n",
    "    names = df_vars_over_bThr[df_vars_over_bThr.Categories == cat].names.to_list()\n",
    "    for name in sorted(names):\n",
    "        print('Var: {}'.format(name))\n",
    "        mods = df_vars_over_bThr[(df_vars_over_bThr.Categories == cat) & (df_vars_over_bThr.names == name)].modalities.to_list()\n",
    "        prs = df_vars_over_bThr[(df_vars_over_bThr.Categories == cat) & (df_vars_over_bThr.names == name)].pearson_r.to_list()\n",
    "        print('   Modalities:')\n",
    "        \n",
    "        prs_abs = np.abs(prs).tolist()\n",
    "        _, mods = zip(*sorted(zip(prs_abs[0], mods[0]), reverse=True))\n",
    "        _, prs = zip(*sorted(zip(prs_abs[0], prs[0]), reverse=True))\n",
    "        \n",
    "        for i, mod in enumerate(mods):\n",
    "            print('   -> {} ({:.3f})'.format(mod, prs[i]))\n",
    "        \n",
    "    print('\\n')"
   ]
  },
  {
   "cell_type": "code",
   "execution_count": 18,
   "metadata": {
    "scrolled": true
   },
   "outputs": [
    {
     "name": "stdout",
     "output_type": "stream",
     "text": [
      "Category: Skeletal Measurements\n",
      "------------------------------------------------\n",
      "\n",
      "\n"
     ]
    }
   ],
   "source": [
    "variance_threshold = 0.1\n",
    "\n",
    "for cat in sorted(list(set(df_vars_over_bThr.Categories.to_list()))):\n",
    "    print(\"Category: {}\".format(cat))\n",
    "    print('------------------------------------------------')\n",
    "    names = df_vars_over_bThr[df_vars_over_bThr.Categories == cat].names.to_list()\n",
    "    for name in sorted(names):\n",
    "        \n",
    "        mods = df_vars_over_bThr[(df_vars_over_bThr.Categories == cat) & (df_vars_over_bThr.names == name)].modalities.to_list()\n",
    "        prs = df_vars_over_bThr[(df_vars_over_bThr.Categories == cat) & (df_vars_over_bThr.names == name)].pearson_r.to_list()\n",
    "        \n",
    "        \n",
    "        prs_abs = np.abs(prs).tolist()\n",
    "        _, mods = zip(*sorted(zip(prs_abs[0], mods[0]), reverse=True))\n",
    "        _, prs = zip(*sorted(zip(prs_abs[0], prs[0]), reverse=True))\n",
    "        \n",
    "        if prs[0] >= variance_threshold:\n",
    "            print('Var: {}'.format(name))\n",
    "            print('   Modalities:')\n",
    "            for i, mod in enumerate(mods):\n",
    "                if prs[i] >= variance_threshold:\n",
    "                    print('   -> {} ({:.3f})'.format(mod, prs[i]))\n",
    "        \n",
    "    print('\\n')"
   ]
  },
  {
   "cell_type": "code",
   "execution_count": 19,
   "metadata": {},
   "outputs": [
    {
     "data": {
      "text/plain": [
       "('IC = 12',)"
      ]
     },
     "execution_count": 19,
     "metadata": {},
     "output_type": "execute_result"
    }
   ],
   "source": [
    "mods"
   ]
  },
  {
   "cell_type": "code",
   "execution_count": 20,
   "metadata": {
    "scrolled": true
   },
   "outputs": [
    {
     "name": "stdout",
     "output_type": "stream",
     "text": [
      "Category: Skeletal Measurements\n",
      "------------------------------------------------\n",
      "\n",
      "\n",
      "There are 0 vars independent from the conventional modalities\n"
     ]
    }
   ],
   "source": [
    "counter = 0\n",
    "for cat in sorted(list(set(df_vars_over_bThr.Categories.to_list()))):\n",
    "    print(\"Category: {}\".format(cat))\n",
    "    print('------------------------------------------------')\n",
    "    names = df_vars_over_bThr[df_vars_over_bThr.Categories == cat].names.to_list()\n",
    "    for name in sorted(names):\n",
    "        mods = df_vars_over_bThr[(df_vars_over_bThr.Categories == cat) & (df_vars_over_bThr.names == name)].modalities.to_list()[0]\n",
    "        if 'ElasticNetFull' in mods or 'ElasticNetFull' in mods or 'ElasticNetFull' in mods:\n",
    "            print('Var: {}'.format(name))\n",
    "            counter += 1\n",
    "        else:\n",
    "            pass\n",
    "    print('\\n')\n",
    "    \n",
    "print(\"There are {} vars independent from the conventional modalities\".format(counter))"
   ]
  },
  {
   "cell_type": "code",
   "execution_count": 21,
   "metadata": {},
   "outputs": [],
   "source": [
    "IDP_df0 = pd.read_pickle('male_IDP.pkl')\n",
    "vars_df0 = pd.read_pickle('male_vars.pkl')"
   ]
  },
  {
   "cell_type": "code",
   "execution_count": 22,
   "metadata": {},
   "outputs": [],
   "source": [
    "vars0_over_bThr_list = []\n",
    "\n",
    "for idx in range(len(vars_df0)):\n",
    "    df = vars_df0.iloc[idx].dataframe\n",
    "    bThr = vars_df0.iloc[idx].bonf\n",
    "    vars_over_bThr = df[df.log_p_values>=bThr].sort_values('log_p_values', ascending=False).names.to_list()\n",
    "    for var in vars_over_bThr:\n",
    "        vars0_over_bThr_list.append(var)"
   ]
  },
  {
   "cell_type": "code",
   "execution_count": 23,
   "metadata": {},
   "outputs": [
    {
     "name": "stdout",
     "output_type": "stream",
     "text": [
      "Number of unique vars across all modalities:  161\n"
     ]
    }
   ],
   "source": [
    "print(\"Number of unique vars across all modalities: \", len(set(vars0_over_bThr_list)))"
   ]
  },
  {
   "cell_type": "code",
   "execution_count": 24,
   "metadata": {},
   "outputs": [],
   "source": [
    "unique_vars0_over_bTHr = list(set(vars0_over_bThr_list))\n",
    "unique_vars0_over_bThr_categories = []\n",
    "\n",
    "for var in unique_vars0_over_bTHr:\n",
    "    idx = list(varsHeader).index(var)\n",
    "    category = vars_categories[idx]\n",
    "    unique_vars0_over_bThr_categories.append(category)\n",
    "    \n",
    "modalities0 = []\n",
    "pearson_rs_list0 = []\n",
    "for var in unique_vars0_over_bTHr:\n",
    "    modalities_with_var = []\n",
    "    pearsonRs_with_var = []\n",
    "    for idx in range(len(vars_df0)):\n",
    "        df = vars_df0.iloc[idx].dataframe\n",
    "        modality = vars_df0.iloc[idx].modality\n",
    "        bThr = vars_df0.iloc[idx].bonf\n",
    "        df = df[df.log_p_values>=bThr].sort_values('log_p_values', ascending=False)\n",
    "        vars_over_bThr = df.names.to_list()\n",
    "        pearson_r_over_bThr = df.pearson_r.to_list()\n",
    "        if var in vars_over_bThr:\n",
    "            modalities_with_var.append(modality)\n",
    "            pearsonRs_with_var.append(pearson_r_over_bThr[vars_over_bThr.index(var)])\n",
    "    modalities0.append(modalities_with_var)\n",
    "    pearson_rs_list0.append(pearsonRs_with_var)"
   ]
  },
  {
   "cell_type": "code",
   "execution_count": 25,
   "metadata": {},
   "outputs": [],
   "source": [
    "df_vars0_over_bThr = pd.DataFrame.from_dict({\n",
    "    'names': unique_vars0_over_bTHr,\n",
    "    'Categories': unique_vars0_over_bThr_categories,\n",
    "    'modalities': modalities0,\n",
    "    'pearson_r': pearson_rs_list0\n",
    "})"
   ]
  },
  {
   "cell_type": "code",
   "execution_count": 26,
   "metadata": {},
   "outputs": [
    {
     "data": {
      "text/html": [
       "<div>\n",
       "<style scoped>\n",
       "    .dataframe tbody tr th:only-of-type {\n",
       "        vertical-align: middle;\n",
       "    }\n",
       "\n",
       "    .dataframe tbody tr th {\n",
       "        vertical-align: top;\n",
       "    }\n",
       "\n",
       "    .dataframe thead th {\n",
       "        text-align: right;\n",
       "    }\n",
       "</style>\n",
       "<table border=\"1\" class=\"dataframe\">\n",
       "  <thead>\n",
       "    <tr style=\"text-align: right;\">\n",
       "      <th></th>\n",
       "      <th>names</th>\n",
       "      <th>Categories</th>\n",
       "      <th>modalities</th>\n",
       "      <th>pearson_r</th>\n",
       "    </tr>\n",
       "  </thead>\n",
       "  <tbody>\n",
       "    <tr>\n",
       "      <th>98</th>\n",
       "      <td>Alcohol intake frequency. (2.0)</td>\n",
       "      <td>Alcohol</td>\n",
       "      <td>[tbss_FA_s, tbss_L1_s, tbss_MO_s, tbss_OD_s, t...</td>\n",
       "      <td>[0.08105822842776622, 0.0794058855339503, 0.07...</td>\n",
       "    </tr>\n",
       "  </tbody>\n",
       "</table>\n",
       "</div>"
      ],
      "text/plain": [
       "                              names Categories  \\\n",
       "98  Alcohol intake frequency. (2.0)    Alcohol   \n",
       "\n",
       "                                           modalities  \\\n",
       "98  [tbss_FA_s, tbss_L1_s, tbss_MO_s, tbss_OD_s, t...   \n",
       "\n",
       "                                            pearson_r  \n",
       "98  [0.08105822842776622, 0.0794058855339503, 0.07...  "
      ]
     },
     "execution_count": 26,
     "metadata": {},
     "output_type": "execute_result"
    }
   ],
   "source": [
    "df_vars0_over_bThr[df_vars0_over_bThr.names=='Alcohol intake frequency. (2.0)']"
   ]
  },
  {
   "cell_type": "code",
   "execution_count": 27,
   "metadata": {
    "scrolled": false
   },
   "outputs": [
    {
     "name": "stdout",
     "output_type": "stream",
     "text": [
      "Category: Skeletal Measurements\n",
      "------------------------------------------------\n",
      "Var: L1-L4 BMD (bone mineral density) (2.0)\n",
      "   Modalities:\n",
      "   -> IC = 12 (0.077)\n",
      "   -> rsfmri_15 (-0.096)\n",
      "Var: Spine BMD (bone mineral density) (2.0)\n",
      "   Modalities:\n",
      "   -> IC = 12 (0.076)\n",
      "   -> rsfmri_15 (-0.098)\n",
      "\n",
      "\n"
     ]
    }
   ],
   "source": [
    "for cat in sorted(list(set(df_vars_over_bThr.Categories.to_list()))):\n",
    "    print(\"Category: {}\".format(cat))\n",
    "    print('------------------------------------------------')\n",
    "    names = df_vars_over_bThr[df_vars_over_bThr.Categories == cat].names.to_list()\n",
    "    for name in sorted(names):\n",
    "        print('Var: {}'.format(name))\n",
    "        mods = df_vars_over_bThr[(df_vars_over_bThr.Categories == cat) & (df_vars_over_bThr.names == name)].modalities.to_list()\n",
    "        prs = df_vars_over_bThr[(df_vars_over_bThr.Categories == cat) & (df_vars_over_bThr.names == name)].pearson_r.to_list()\n",
    "        mods0 = df_vars0_over_bThr[(df_vars0_over_bThr.Categories == cat) & (df_vars0_over_bThr.names == name)].modalities.to_list()\n",
    "        prs0 = df_vars0_over_bThr[(df_vars0_over_bThr.Categories == cat) & (df_vars0_over_bThr.names == name)].pearson_r.to_list()\n",
    "        print('   Modalities:')\n",
    "        \n",
    "        prs_abs = np.abs(prs).tolist()\n",
    "        _, mods = zip(*sorted(zip(prs_abs[0], mods[0]), reverse=True))\n",
    "        _, prs = zip(*sorted(zip(prs_abs[0], prs[0]), reverse=True))\n",
    "        \n",
    "        for i, mod in enumerate(mods):\n",
    "            print('   -> {} ({:.3f})'.format(mod, prs[i]))\n",
    "        \n",
    "        \n",
    "        if len(mods0) == 0:\n",
    "            print('======== ATTENTION! NEW VAR ! ==========')\n",
    "        else:\n",
    "            prs_abs0 = np.abs(prs0).tolist()\n",
    "            _, mods0 = zip(*sorted(zip(prs_abs0[0], mods0[0]), reverse=True))\n",
    "            _, prs0 = zip(*sorted(zip(prs_abs0[0], prs0[0]), reverse=True))\n",
    "        \n",
    "\n",
    "#         for i, mod in enumerate(mods0):\n",
    "#             print('   -> {} ({:.3f})'.format(mod, prs0[i]))\n",
    "            print('   -> {} ({:.3f})'.format(mods0[0], prs0[0]))\n",
    "        \n",
    "    print('\\n')"
   ]
  },
  {
   "cell_type": "code",
   "execution_count": null,
   "metadata": {},
   "outputs": [],
   "source": []
  },
  {
   "cell_type": "code",
   "execution_count": null,
   "metadata": {},
   "outputs": [],
   "source": []
  },
  {
   "cell_type": "code",
   "execution_count": null,
   "metadata": {},
   "outputs": [],
   "source": []
  },
  {
   "cell_type": "code",
   "execution_count": null,
   "metadata": {},
   "outputs": [],
   "source": []
  },
  {
   "cell_type": "code",
   "execution_count": null,
   "metadata": {},
   "outputs": [],
   "source": []
  },
  {
   "cell_type": "code",
   "execution_count": null,
   "metadata": {},
   "outputs": [],
   "source": []
  },
  {
   "cell_type": "code",
   "execution_count": null,
   "metadata": {},
   "outputs": [],
   "source": []
  },
  {
   "cell_type": "code",
   "execution_count": null,
   "metadata": {},
   "outputs": [],
   "source": []
  }
 ],
 "metadata": {
  "kernelspec": {
   "display_name": "Python 3 (ipykernel)",
   "language": "python",
   "name": "python3"
  },
  "language_info": {
   "codemirror_mode": {
    "name": "ipython",
    "version": 3
   },
   "file_extension": ".py",
   "mimetype": "text/x-python",
   "name": "python",
   "nbconvert_exporter": "python",
   "pygments_lexer": "ipython3",
   "version": "3.10.4"
  }
 },
 "nbformat": 4,
 "nbformat_minor": 4
}
