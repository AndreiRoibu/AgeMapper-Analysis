{
 "cells": [
  {
   "cell_type": "code",
   "execution_count": 1,
   "metadata": {},
   "outputs": [],
   "source": [
    "import numpy as np\n",
    "from fsl.data.image import Image\n",
    "from fsl.utils.image.resample import resampleToPixdims\n",
    "from fsl.utils.image.roi import roi"
   ]
  },
  {
   "cell_type": "code",
   "execution_count": 2,
   "metadata": {},
   "outputs": [],
   "source": [
    "path = \"23679812_rsfmri_original\""
   ]
  },
  {
   "cell_type": "code",
   "execution_count": 3,
   "metadata": {},
   "outputs": [],
   "source": [
    "img = Image(path).data"
   ]
  },
  {
   "cell_type": "code",
   "execution_count": 4,
   "metadata": {},
   "outputs": [
    {
     "name": "stdout",
     "output_type": "stream",
     "text": [
      "(91, 109, 91, 25)\n"
     ]
    }
   ],
   "source": [
    "print(img.shape)"
   ]
  },
  {
   "cell_type": "code",
   "execution_count": 5,
   "metadata": {},
   "outputs": [],
   "source": [
    "img0 = img[:,:,:,0]"
   ]
  },
  {
   "cell_type": "code",
   "execution_count": 6,
   "metadata": {},
   "outputs": [
    {
     "data": {
      "text/plain": [
       "(91, 109, 91)"
      ]
     },
     "execution_count": 6,
     "metadata": {},
     "output_type": "execute_result"
    }
   ],
   "source": [
    "img0.shape"
   ]
  },
  {
   "cell_type": "code",
   "execution_count": 8,
   "metadata": {},
   "outputs": [
    {
     "name": "stdout",
     "output_type": "stream",
     "text": [
      "min:  -12.492327\n",
      "max:  18.976564\n",
      "mean:  0.12850438\n",
      "std:  1.1625547\n"
     ]
    }
   ],
   "source": [
    "print(\"min: \", np.min(img0))\n",
    "print(\"max: \", np.max(img0))\n",
    "print(\"mean: \", np.mean(img0))\n",
    "print(\"std: \", np.std(img0))"
   ]
  },
  {
   "cell_type": "code",
   "execution_count": 14,
   "metadata": {},
   "outputs": [],
   "source": [
    "imgR, _ = resampleToPixdims(Image(img0), (1,1,1))"
   ]
  },
  {
   "cell_type": "code",
   "execution_count": 18,
   "metadata": {},
   "outputs": [
    {
     "data": {
      "text/plain": [
       "(91, 109, 91)"
      ]
     },
     "execution_count": 18,
     "metadata": {},
     "output_type": "execute_result"
    }
   ],
   "source": [
    "imgR.shape"
   ]
  },
  {
   "cell_type": "code",
   "execution_count": 22,
   "metadata": {},
   "outputs": [],
   "source": [
    "img = Image(path).data[:,:,:,0]"
   ]
  },
  {
   "cell_type": "code",
   "execution_count": 23,
   "metadata": {},
   "outputs": [
    {
     "data": {
      "text/plain": [
       "(91, 109, 91)"
      ]
     },
     "execution_count": 23,
     "metadata": {},
     "output_type": "execute_result"
    }
   ],
   "source": [
    "img.shape"
   ]
  },
  {
   "cell_type": "code",
   "execution_count": 25,
   "metadata": {},
   "outputs": [],
   "source": [
    "imgR = resampleToPixdims(Image(img, header=Image(path).header), (1,1,1))"
   ]
  },
  {
   "cell_type": "code",
   "execution_count": 26,
   "metadata": {},
   "outputs": [
    {
     "data": {
      "text/plain": [
       "tuple"
      ]
     },
     "execution_count": 26,
     "metadata": {},
     "output_type": "execute_result"
    }
   ],
   "source": [
    "type(imgR)"
   ]
  },
  {
   "cell_type": "code",
   "execution_count": 28,
   "metadata": {},
   "outputs": [
    {
     "data": {
      "text/plain": [
       "(182, 218, 182)"
      ]
     },
     "execution_count": 28,
     "metadata": {},
     "output_type": "execute_result"
    }
   ],
   "source": [
    "imgR[0].shape"
   ]
  },
  {
   "cell_type": "code",
   "execution_count": 29,
   "metadata": {},
   "outputs": [],
   "source": [
    "imgR = resampleToPixdims(Image(img), (1,1,1))"
   ]
  },
  {
   "cell_type": "code",
   "execution_count": 30,
   "metadata": {},
   "outputs": [
    {
     "data": {
      "text/plain": [
       "(91, 109, 91)"
      ]
     },
     "execution_count": 30,
     "metadata": {},
     "output_type": "execute_result"
    }
   ],
   "source": [
    "imgR[0].shape"
   ]
  },
  {
   "cell_type": "code",
   "execution_count": 43,
   "metadata": {},
   "outputs": [],
   "source": [
    "imgR, xform = resampleToPixdims(Image(img, header=Image(path).header), (1,1,1))\n",
    "header = Image(imgR, header=Image(path).header, xform=xform).header"
   ]
  },
  {
   "cell_type": "code",
   "execution_count": 44,
   "metadata": {},
   "outputs": [
    {
     "data": {
      "text/plain": [
       "(182, 218, 182)"
      ]
     },
     "execution_count": 44,
     "metadata": {},
     "output_type": "execute_result"
    }
   ],
   "source": [
    "imgR.shape"
   ]
  },
  {
   "cell_type": "code",
   "execution_count": 45,
   "metadata": {},
   "outputs": [
    {
     "name": "stdout",
     "output_type": "stream",
     "text": [
      "min:  -12.492327\n",
      "max:  18.976564\n",
      "mean:  0.12850438\n",
      "std:  1.1625547\n"
     ]
    }
   ],
   "source": [
    "print(\"min: \", np.min(img0))\n",
    "print(\"max: \", np.max(img0))\n",
    "print(\"mean: \", np.mean(img0))\n",
    "print(\"std: \", np.std(img0))"
   ]
  },
  {
   "cell_type": "code",
   "execution_count": 46,
   "metadata": {},
   "outputs": [
    {
     "name": "stdout",
     "output_type": "stream",
     "text": [
      "min:  -12.492327\n",
      "max:  18.976564\n",
      "mean:  0.12850817\n",
      "std:  1.1004686\n"
     ]
    }
   ],
   "source": [
    "print(\"min: \", np.min(imgR))\n",
    "print(\"max: \", np.max(imgR))\n",
    "print(\"mean: \", np.mean(imgR))\n",
    "print(\"std: \", np.std(imgR))"
   ]
  },
  {
   "cell_type": "code",
   "execution_count": 48,
   "metadata": {},
   "outputs": [],
   "source": [
    "output_nifti_image = Image(imgR, header=header, xform=xform)"
   ]
  },
  {
   "cell_type": "code",
   "execution_count": 49,
   "metadata": {},
   "outputs": [],
   "source": [
    "Image(output_nifti_image).save(\"23679812_rsfmri_resampled\")"
   ]
  },
  {
   "cell_type": "code",
   "execution_count": 36,
   "metadata": {},
   "outputs": [],
   "source": [
    "imgR_i = Image(imgR)"
   ]
  },
  {
   "cell_type": "code",
   "execution_count": 39,
   "metadata": {},
   "outputs": [
    {
     "data": {
      "text/plain": [
       "<nibabel.nifti1.Nifti1Header at 0x1092047f0>"
      ]
     },
     "execution_count": 39,
     "metadata": {},
     "output_type": "execute_result"
    }
   ],
   "source": [
    "imgR_i.header"
   ]
  },
  {
   "cell_type": "code",
   "execution_count": 42,
   "metadata": {},
   "outputs": [
    {
     "ename": "AttributeError",
     "evalue": "'Image' object has no attribute 'xform'",
     "output_type": "error",
     "traceback": [
      "\u001b[0;31m---------------------------------------------------------------------------\u001b[0m",
      "\u001b[0;31mAttributeError\u001b[0m                            Traceback (most recent call last)",
      "\u001b[0;32m<ipython-input-42-856df80825a4>\u001b[0m in \u001b[0;36m<module>\u001b[0;34m\u001b[0m\n\u001b[0;32m----> 1\u001b[0;31m \u001b[0mImage\u001b[0m\u001b[0;34m(\u001b[0m\u001b[0mpath\u001b[0m\u001b[0;34m)\u001b[0m\u001b[0;34m.\u001b[0m\u001b[0mxform\u001b[0m\u001b[0;34m(\u001b[0m\u001b[0;34m)\u001b[0m\u001b[0;34m\u001b[0m\u001b[0;34m\u001b[0m\u001b[0m\n\u001b[0m",
      "\u001b[0;31mAttributeError\u001b[0m: 'Image' object has no attribute 'xform'"
     ]
    }
   ],
   "source": [
    "Image(path).xform()"
   ]
  },
  {
   "cell_type": "code",
   "execution_count": null,
   "metadata": {},
   "outputs": [],
   "source": []
  },
  {
   "cell_type": "code",
   "execution_count": null,
   "metadata": {},
   "outputs": [],
   "source": [
    "def resampleToPixdims(image, newPixdims, **kwargs):\n",
    "    \"\"\"Resample ``image`` so that it has the specified voxel dimensions.\n",
    "\n",
    "    This is a wrapper around :func:`resample` - refer to its documenttion\n",
    "    for details on the other arguments and the return values.\n",
    "\n",
    "    :arg image:   :class:`.Image` to resample\n",
    "    :arg pixdims: New voxel dimensions to resample ``image`` to.\n",
    "    \"\"\"\n",
    "    newPixdims = np.array(newPixdims)\n",
    "    oldShape   = np.array(image.shape)\n",
    "    oldPixdims = np.array(image.pixdim)\n",
    "    newShape   = oldShape * (oldPixdims / newPixdims)\n",
    "    return resample(image, newShape, **kwargs)\n",
    "\n",
    "def resample(image,\n",
    "             newShape,\n",
    "             import fsl.transform.affine as affineimport fsl.transform.affine as affineimport fsl.transform.affine as affineimport fsl.transform.affine as affine=None,\n",
    "             dtype=None,\n",
    "             order=1,\n",
    "             smooth=True,\n",
    "             origin=None,\n",
    "             matrix=None,\n",
    "             mode=None,\n",
    "             cval=0):\n",
    "    \"\"\"Returns a copy of the data in the ``image``, resampled to the specified\n",
    "    ``newShape``.\n",
    "\n",
    "    The space that the image is resampled into can be defined in one of the\n",
    "    following ways, in decreasing order of precedence:\n",
    "\n",
    "      1. If a ``matrix`` is provided, it is applied to the voxel coordinates\n",
    "         when retrieving values from the ``image``\n",
    "\n",
    "      2. Otherwise the image is simply scaled according to the ratio calculated\n",
    "         by ``image.shape / newShape``. In this case the ``origin`` argument\n",
    "         may be used to adjust the alignemnt of the original and resampled\n",
    "         voxel grids.\n",
    "\n",
    "    See the ``scipy.ndimage.affine_transform`` function for more details,\n",
    "    particularly on the ``order``, ``matrix``, ``mode`` and\n",
    "    ``cval`` arguments.\n",
    "\n",
    "    .. note:: If a custom resampling ``matrix`` is specified, the adjusted\n",
    "              voxel-to-world afffine cannot be calculated by this function,\n",
    "              so ``None`` will be returned instead.\n",
    "\n",
    "    :arg image:    :class:`.Image` object to resample\n",
    "\n",
    "    :arg newShape: Desired shape. May containg floating point values, in which\n",
    "                   case the resampled image will have shape\n",
    "                   ``round(newShape)``, but the voxel sizes will have scales\n",
    "                   ``self.shape / newShape`` (unless ``matrix`` is specified).\n",
    "\n",
    "    :arg sliceobj: Slice into this ``Image``. If ``None``, the whole\n",
    "                   image is resampled, and it is assumed that it has the\n",
    "                   same number of dimensions as  ``newShape``. A\n",
    "                   :exc:`ValueError` is raised if this is not the case.\n",
    "\n",
    "    :arg dtype:    ``numpy`` data type of the resampled data. If ``None``,\n",
    "                   the :meth:`dtype` of this ``Image`` is used.\n",
    "\n",
    "    :arg order:    Spline interpolation order, passed through to the\n",
    "                   ``scipy.ndimage.affine_transform`` function - ``0``\n",
    "                   corresponds to nearest neighbour interpolation, ``1``\n",
    "                   (the default) to linear interpolation, and ``3`` to\n",
    "                   cubic interpolation.\n",
    "\n",
    "    :arg smooth:   If ``True`` (the default), the data is smoothed before\n",
    "                   being resampled, but only along axes which are being\n",
    "                   down-sampled (i.e. where ``newShape[i] < self.shape[i]``).\n",
    "\n",
    "    :arg origin:   ``'centre'`` (the default) or ``'corner'``. ``'centre'``\n",
    "                   resamples the image such that the centre of the corner\n",
    "                   voxels of this image and the resampled data are\n",
    "                   aligned. ``'corner'`` resamples the image such that\n",
    "                   the corner of the corner voxels are aligned (and\n",
    "                   therefore the voxel grids are aligned).\n",
    "                   Ignored if ``offset`` or ``matrix`` is specified.\n",
    "\n",
    "    :arg matrix:   Arbitrary affine transformation matrix to apply to the\n",
    "                   voxel coordinates of ``image`` when resampling.\n",
    "\n",
    "    :arg mode:     How to handle regions which are outside of the image FOV.\n",
    "                   Defaults to `''nearest'``.\n",
    "\n",
    "    :arg cval:     Constant value to use when ``mode='constant'``.\n",
    "\n",
    "    :returns: A tuple containing:\n",
    "\n",
    "               - A ``numpy`` array of shape ``newShape``, containing\n",
    "                 an interpolated copy of the data in this ``Image``.\n",
    "\n",
    "               - A ``numpy`` array of shape ``(4, 4)``, containing the\n",
    "                 adjusted voxel-to-world transformation for the spatial\n",
    "                 dimensions of the resampled data, or ``None`` if a ``matrix``\n",
    "                 was provided.\n",
    "    \"\"\"\n",
    "\n",
    "    if sliceobj is None:     sliceobj = slice(None)\n",
    "    if dtype    is None:     dtype    = image.dtype\n",
    "    if origin   is None:     origin   = 'centre'\n",
    "    if mode     is None:     mode     = 'nearest'\n",
    "    if origin   == 'center': origin   = 'centre'\n",
    "\n",
    "    ownMatrix = matrix is None\n",
    "\n",
    "    if origin not in ('centre', 'corner'):\n",
    "        raise ValueError('Invalid value for origin: {}'.format(origin))\n",
    "\n",
    "    data = np.array(image[sliceobj], dtype=dtype, copy=False)\n",
    "\n",
    "    if len(data.shape) != len(newShape):\n",
    "        raise ValueError('Data dimensions do not match new shape: '\n",
    "                         'len({}) != len({})'.format(data.shape, newShape))\n",
    "\n",
    "    # If matrix not provided, calculate\n",
    "    # a scaling/offset matrix from the\n",
    "    # old/new shape ratio and the origin\n",
    "    # setting.\n",
    "    if matrix is None:\n",
    "        matrix = affine.rescale(data.shape, newShape, origin)\n",
    "\n",
    "    # same shape and identity matrix? the\n",
    "    # image doesn't need to be resampled\n",
    "    if np.all(np.isclose(data.shape, newShape)) and \\\n",
    "       np.all(np.isclose(matrix, np.eye(len(newShape) + 1))):\n",
    "        return data, image.voxToWorldMat\n",
    "\n",
    "    newShape = np.array(np.round(newShape), dtype=int)\n",
    "\n",
    "    # Apply smoothing if requested,\n",
    "    # and if not using nn interp\n",
    "    if order > 0 and smooth:\n",
    "        data = applySmoothing(data, matrix, newShape)\n",
    "\n",
    "    # Do the resample thing\n",
    "    data = ndimage.affine_transform(data,\n",
    "                                    matrix,\n",
    "                                    output_shape=newShape,\n",
    "                                    order=order,\n",
    "                                    mode=mode,\n",
    "                                    cval=cval)\n",
    "\n",
    "    # Construct an affine transform which\n",
    "    # puts the resampled image into the\n",
    "    # same world coordinate system as this\n",
    "    # image. We may be working with >3D data,\n",
    "    # so here we discard the non-spatial\n",
    "    # parts of the resampling matrix\n",
    "    if matrix.shape != (4, 4):\n",
    "        rotmat         = matrix[:3, :3]\n",
    "        offsets        = matrix[:3, -1]\n",
    "        matrix         = np.eye(4)\n",
    "        matrix[:3, :3] = rotmat\n",
    "        matrix[:3, -1] = offsets\n",
    "\n",
    "    # We can only adjust the v2w affine if\n",
    "    # the input space and resampling space\n",
    "    # are aligned (e.g. if we're just\n",
    "    # resampling to different dimensions).\n",
    "    # We can't assume this when a custom\n",
    "    # matrix is specified, so we just give\n",
    "    # up and return None.\n",
    "    if ownMatrix: matrix = affine.concat(image.voxToWorldMat, matrix)\n",
    "    else:         matrix = None\n",
    "\n",
    "    return data, matrix\n",
    "\n",
    "\n",
    "\n",
    "def applySmoothing(data, matrix, newShape):\n",
    "    \"\"\"Called by the :func:`resample` function.\n",
    "\n",
    "    If interpolating and smoothing, we apply a gaussian filter along axes with\n",
    "    a resampling ratio greater than 1.1. We do this so that interpolation has\n",
    "    an effect when down-sampling to a resolution where the voxel centres are\n",
    "    aligned (as otherwise any interpolation regime will be equivalent to\n",
    "    nearest neighbour). This more-or-less mimics the behaviour of FLIRT.\n",
    "\n",
    "    See the ``scipy.ndimage.gaussian_filter`` function for more details.\n",
    "\n",
    "    :arg data:     Data to be smoothed.\n",
    "    :arg matrix:   Affine matrix to be used during resampling. The voxel\n",
    "                   scaling factors are extracted from this.\n",
    "    :arg newShape: Shape the data is to be resampled into.\n",
    "    :returns:      A smoothed copy of ``data``.\n",
    "    \"\"\"\n",
    "\n",
    "    ratio = affine.decompose(matrix[:3, :3])[0]\n",
    "\n",
    "    if len(newShape) > 3:\n",
    "        ratio = np.concatenate((\n",
    "            ratio,\n",
    "            [float(o) / float(s)\n",
    "             for o, s in zip(data.shape[3:], newShape[3:])]))\n",
    "\n",
    "    sigma                = np.array(ratio)\n",
    "    sigma[ratio <  1.1]  = 0\n",
    "    sigma[ratio >= 1.1] *= 0.425\n",
    "\n",
    "    return ndimage.gaussian_filter(data, sigma)"
   ]
  },
  {
   "cell_type": "code",
   "execution_count": 3,
   "metadata": {},
   "outputs": [],
   "source": [
    "# F, xform = resampleToPixdims(Image(F, header=Image(pathF).header), (1,1,1))\n",
    "\n",
    "import os\n",
    "import pickle\n",
    "import numpy as np\n",
    "import configparser\n",
    "import pandas as pd\n",
    "from fsl.data.image import Image\n",
    "import matplotlib.pyplot as plt\n",
    "import seaborn as sns\n",
    "sns.set()\n",
    "import numpy as np\n",
    "from fsl.data.image import Image\n",
    "from fsl.utils.image.resample import resampleToPixdims\n",
    "from fsl.utils.image.roi import roi\n",
    "import torch\n",
    "import nibabel as nib"
   ]
  },
  {
   "cell_type": "code",
   "execution_count": 4,
   "metadata": {},
   "outputs": [],
   "source": [
    "pathF = \"23679812_rsfmri_original\"\n",
    "F = Image(pathF).data[:,:,:,0]"
   ]
  },
  {
   "cell_type": "code",
   "execution_count": 63,
   "metadata": {},
   "outputs": [],
   "source": [
    "def resampleToPixdims(image, newPixdims):\n",
    "\n",
    "    newPixdims = np.array(newPixdims)\n",
    "    oldShape   = np.array(image.shape)\n",
    "    oldPixdims = np.array(image.pixdim)\n",
    "    newShape   = oldShape * (oldPixdims / newPixdims)\n",
    "    \n",
    "#     print(newPixdims, oldShape, oldPixdims, newShape)\n",
    "#     print(type(newPixdims), type(oldShape), type(oldPixdims), type(newShape))\n",
    "#     print(image.dtype)\n",
    "    return resample(image, oldShape, newShape)"
   ]
  },
  {
   "cell_type": "code",
   "execution_count": 64,
   "metadata": {},
   "outputs": [],
   "source": [
    "# resampleToPixdims(Image(F, header=Image(pathF).header), (1,1,1))"
   ]
  },
  {
   "cell_type": "code",
   "execution_count": 65,
   "metadata": {},
   "outputs": [],
   "source": [
    "def resampleToPixdims2(image, oldPixdims, newPixdims):\n",
    "\n",
    "    newPixdims = np.array(newPixdims)\n",
    "    oldShape   = np.array(image.shape)\n",
    "    oldPixdims = np.array(oldPixdims)\n",
    "    newShape   = oldShape * (oldPixdims / newPixdims)\n",
    "    \n",
    "#     print(newPixdims, oldShape, oldPixdims, newShape)\n",
    "#     print(type(newPixdims), type(oldShape), type(oldPixdims), type(newShape))\n",
    "#     print(image.dtype)\n",
    "    return resample(image, oldShape, newShape)"
   ]
  },
  {
   "cell_type": "code",
   "execution_count": 92,
   "metadata": {},
   "outputs": [],
   "source": [
    "pathF = \"23679812_rsfmri_original.nii.gz\"\n",
    "F2 = np.array(nib.load(pathF).dataobj)[:,:,:,0]"
   ]
  },
  {
   "cell_type": "code",
   "execution_count": 28,
   "metadata": {},
   "outputs": [
    {
     "name": "stdout",
     "output_type": "stream",
     "text": [
      "float32\n"
     ]
    }
   ],
   "source": [
    "resampleToPixdims2(F2, (2,2,2), (1,1,1))"
   ]
  },
  {
   "cell_type": "code",
   "execution_count": 117,
   "metadata": {},
   "outputs": [],
   "source": [
    "import fsl.transform.affine as affine\n",
    "\n",
    "def rescale(oldShape, newShape, origin):\n",
    "\n",
    "    ndim     = len(oldShape)\n",
    "    ratio = oldShape / newShape\n",
    "    scale = np.diag(ratio)\n",
    "    offset = [0] * ndim\n",
    "    xform               = np.eye(ndim + 1)\n",
    "    xform[:ndim, :ndim] = scale\n",
    "    xform[:ndim, -1]    = offset\n",
    "\n",
    "    return xform\n",
    "\n",
    "def resample(image,\n",
    "             oldShape,\n",
    "             newShape,\n",
    "             sliceobj=None,\n",
    "             dtype=None,\n",
    "             order=1,\n",
    "             smooth=True,\n",
    "             origin=None,\n",
    "             matrix=None,\n",
    "             mode=None,\n",
    "             cval=0):\n",
    "\n",
    "    sliceobj = slice(None)\n",
    "    dtype    = image.dtype\n",
    "    origin   = 'centre'\n",
    "    mode     = 'nearest'\n",
    "\n",
    "    ownMatrix = matrix is None\n",
    "    data = np.array(image[sliceobj], dtype=dtype, copy=False)\n",
    "\n",
    "    if matrix is None:\n",
    "        matrix = rescale(oldShape, newShape, origin)\n",
    "        \n",
    "    newShape = np.array(np.round(newShape), dtype=int)\n",
    "\n",
    "    data = ndimage.affine_transform(data,\n",
    "                                    matrix,\n",
    "                                    output_shape=newShape,\n",
    "                                    order=order,\n",
    "                                    mode=mode,\n",
    "                                    cval=cval)\n",
    "\n",
    "    return data"
   ]
  },
  {
   "cell_type": "code",
   "execution_count": 118,
   "metadata": {},
   "outputs": [],
   "source": [
    "out1 = resampleToPixdims(Image(F, header=Image(pathF).header), (1,1,1))"
   ]
  },
  {
   "cell_type": "code",
   "execution_count": 119,
   "metadata": {},
   "outputs": [],
   "source": [
    "out2 = resampleToPixdims2(F2, (2,2,2), (1,1,1))"
   ]
  },
  {
   "cell_type": "code",
   "execution_count": 107,
   "metadata": {},
   "outputs": [],
   "source": [
    "Image(out1).save('F1.nii.gz')\n",
    "Image(out2).save('F2.nii.gz')"
   ]
  },
  {
   "cell_type": "code",
   "execution_count": 87,
   "metadata": {},
   "outputs": [
    {
     "data": {
      "text/plain": [
       "NoneType"
      ]
     },
     "execution_count": 87,
     "metadata": {},
     "output_type": "execute_result"
    }
   ],
   "source": [
    "type(F1)"
   ]
  },
  {
   "cell_type": "code",
   "execution_count": 103,
   "metadata": {},
   "outputs": [
    {
     "name": "stdout",
     "output_type": "stream",
     "text": [
      "[[ 0  2  4  6  8]\n",
      " [10 12 14 16 18]\n",
      " [20 22 24 26 28]\n",
      " [30 32 34 36 38]\n",
      " [40 42 44 46 48]]\n",
      "[[ 0  2  4  6  8]\n",
      " [10 12 14 16 18]\n",
      " [20 22 24 26 28]\n",
      " [30 32 34 36 38]\n",
      " [40 42 44 46 48]]\n"
     ]
    }
   ],
   "source": [
    "from scipy.ndimage import gaussian_filter\n",
    "a = np.arange(50, step=2).reshape((5,5))\n",
    "print(a)\n",
    "print(gaussian_filter(a, sigma=0))"
   ]
  },
  {
   "cell_type": "code",
   "execution_count": 111,
   "metadata": {},
   "outputs": [
    {
     "data": {
      "text/plain": [
       "(91, 109, 91)"
      ]
     },
     "execution_count": 111,
     "metadata": {},
     "output_type": "execute_result"
    }
   ],
   "source": [
    "out2.shape"
   ]
  },
  {
   "cell_type": "code",
   "execution_count": 114,
   "metadata": {},
   "outputs": [],
   "source": [
    "upsampled_array = np.kron(out2, np.ones((2, 2, 2)))"
   ]
  },
  {
   "cell_type": "code",
   "execution_count": 115,
   "metadata": {},
   "outputs": [
    {
     "data": {
      "text/plain": [
       "(182, 218, 182)"
      ]
     },
     "execution_count": 115,
     "metadata": {},
     "output_type": "execute_result"
    }
   ],
   "source": [
    "upsampled_array.shape"
   ]
  },
  {
   "cell_type": "code",
   "execution_count": 116,
   "metadata": {},
   "outputs": [],
   "source": [
    "Image(upsampled_array).save('F3.nii.gz')"
   ]
  },
  {
   "cell_type": "code",
   "execution_count": 123,
   "metadata": {},
   "outputs": [
    {
     "name": "stdout",
     "output_type": "stream",
     "text": [
      "--- 177.25169277191162 seconds ---\n",
      "--- 0.8862591087818146 sec/ite ---\n"
     ]
    }
   ],
   "source": [
    "import time\n",
    "\n",
    "start_time = time.time()\n",
    "iterations = 200\n",
    "for _ in range(iterations):\n",
    "    F = Image(pathF).data[:,:,:,0]\n",
    "    F = resampleToPixdims2(F, (2,2,2), (1,1,1))\n",
    "#     F = roi(Image(F, header=Image(pathF).header, xform=xform),((10,170),(12,204),(0,160))).data\n",
    "#     F = F / 5.678573626611138\n",
    "    \n",
    "#     x_shift, y_shift, z_shift = np.random.randint(-2,3,3)\n",
    "#     F = np.roll(F,x_shift,axis=0)\n",
    "#     F = np.roll(F,y_shift,axis=1)\n",
    "#     F = np.roll(F,z_shift,axis=2)\n",
    "#     if z_shift < 0:\n",
    "#         X_volume[:,:,z_shift:] = 0\n",
    "    \n",
    "print(\"--- %s seconds ---\" % (time.time() - start_time))\n",
    "print(\"--- %s sec/ite ---\" % ((time.time() - start_time)/iterations))"
   ]
  },
  {
   "cell_type": "code",
   "execution_count": 125,
   "metadata": {},
   "outputs": [
    {
     "name": "stdout",
     "output_type": "stream",
     "text": [
      "--- 160.90542793273926 seconds ---\n",
      "--- 0.804528136253357 sec/ite ---\n"
     ]
    }
   ],
   "source": [
    "import time\n",
    "\n",
    "start_time = time.time()\n",
    "iterations = 200\n",
    "for _ in range(iterations):\n",
    "    F = np.array(nib.load(pathF).dataobj)[:,:,:,0]\n",
    "    F = resampleToPixdims2(F, (2,2,2), (1,1,1))\n",
    "#     F = roi(Image(F, header=Image(pathF).header, xform=xform),((10,170),(12,204),(0,160))).data\n",
    "#     F = F / 5.678573626611138\n",
    "    \n",
    "#     x_shift, y_shift, z_shift = np.random.randint(-2,3,3)\n",
    "#     F = np.roll(F,x_shift,axis=0)\n",
    "#     F = np.roll(F,y_shift,axis=1)\n",
    "#     F = np.roll(F,z_shift,axis=2)\n",
    "#     if z_shift < 0:\n",
    "#         X_volume[:,:,z_shift:] = 0\n",
    "    \n",
    "print(\"--- %s seconds ---\" % (time.time() - start_time))\n",
    "print(\"--- %s sec/ite ---\" % ((time.time() - start_time)/iterations))"
   ]
  },
  {
   "cell_type": "code",
   "execution_count": 126,
   "metadata": {},
   "outputs": [],
   "source": [
    "def resampleToPixdims3(image, oldPixdims, newPixdims):\n",
    "\n",
    "    newPixdims = np.array(newPixdims)\n",
    "    oldShape   = np.array(image.shape)\n",
    "    oldPixdims = np.array(oldPixdims)\n",
    "    newShape   = oldShape * (oldPixdims / newPixdims)\n",
    "    \n",
    "    return resample2(image, oldShape, newShape)\n",
    "\n",
    "def resample2(image,\n",
    "             oldShape,\n",
    "             newShape,\n",
    "             sliceobj=None,\n",
    "             dtype=None,\n",
    "             order=1,\n",
    "             smooth=True,\n",
    "             origin=None,\n",
    "             matrix=None,\n",
    "             mode=None,\n",
    "             cval=0):\n",
    "\n",
    "    sliceobj = slice(None)\n",
    "    dtype    = image.dtype\n",
    "    origin   = 'centre'\n",
    "    mode     = 'nearest'\n",
    "\n",
    "    ownMatrix = matrix is None\n",
    "    data = np.array(image[sliceobj], dtype=dtype, copy=False)\n",
    "\n",
    "    if matrix is None:\n",
    "        matrix = rescale(oldShape, newShape, origin)\n",
    "        \n",
    "    newShape = np.array(np.round(newShape), dtype=int)\n",
    "\n",
    "    data = np.kron(data, np.ones((2, 2, 2)))\n",
    "\n",
    "    return data"
   ]
  },
  {
   "cell_type": "code",
   "execution_count": 127,
   "metadata": {},
   "outputs": [
    {
     "name": "stdout",
     "output_type": "stream",
     "text": [
      "--- 74.6341860294342 seconds ---\n",
      "--- 0.37317193508148194 sec/ite ---\n"
     ]
    }
   ],
   "source": [
    "import time\n",
    "\n",
    "start_time = time.time()\n",
    "iterations = 200\n",
    "for _ in range(iterations):\n",
    "    F = np.array(nib.load(pathF).dataobj)[:,:,:,0]\n",
    "    F = resampleToPixdims3(F, (2,2,2), (1,1,1))\n",
    "#     F = roi(Image(F, header=Image(pathF).header, xform=xform),((10,170),(12,204),(0,160))).data\n",
    "#     F = F / 5.678573626611138\n",
    "    \n",
    "#     x_shift, y_shift, z_shift = np.random.randint(-2,3,3)\n",
    "#     F = np.roll(F,x_shift,axis=0)\n",
    "#     F = np.roll(F,y_shift,axis=1)\n",
    "#     F = np.roll(F,z_shift,axis=2)\n",
    "#     if z_shift < 0:\n",
    "#         X_volume[:,:,z_shift:] = 0\n",
    "    \n",
    "print(\"--- %s seconds ---\" % (time.time() - start_time))\n",
    "print(\"--- %s sec/ite ---\" % ((time.time() - start_time)/iterations))"
   ]
  },
  {
   "cell_type": "code",
   "execution_count": 245,
   "metadata": {},
   "outputs": [
    {
     "name": "stdout",
     "output_type": "stream",
     "text": [
      "--- 69.74571990966797 seconds ---\n",
      "--- 0.3487356400489807 sec/ite ---\n"
     ]
    }
   ],
   "source": [
    "import time\n",
    "\n",
    "m = torch.nn.Upsample(scale_factor=2, mode='trilinear', align_corners=True)\n",
    "\n",
    "start_time = time.time()\n",
    "iterations = 200\n",
    "for _ in range(iterations):\n",
    "    F = np.array(nib.load(pathF).dataobj)[:,:,:,0]\n",
    "        \n",
    "    sp = (1,1)+F.shape\n",
    "    F = F.reshape(sp)\n",
    "    F = torch.tensor(F, dtype=torch.float32)\n",
    "    F = m(F)\n",
    "# X_volume = torch.squeeze(X_volume)\n",
    "# X_volume = X_volume.detach().cpu().numpy()\n",
    "# X_volume.squeeze()\n",
    "# Image(X_volume).save('F_upsampled_align_corners.nii.gz')\n",
    "    \n",
    "#     F = roi(Image(F, header=Image(pathF).header, xform=xform),((10,170),(12,204),(0,160))).data\n",
    "#     F = F / 5.678573626611138\n",
    "    \n",
    "#     x_shift, y_shift, z_shift = np.random.randint(-2,3,3)\n",
    "#     F = np.roll(F,x_shift,axis=0)\n",
    "#     F = np.roll(F,y_shift,axis=1)\n",
    "#     F = np.roll(F,z_shift,axis=2)\n",
    "#     if z_shift < 0:\n",
    "#         X_volume[:,:,z_shift:] = 0\n",
    "    \n",
    "print(\"--- %s seconds ---\" % (time.time() - start_time))\n",
    "print(\"--- %s sec/ite ---\" % ((time.time() - start_time)/iterations))"
   ]
  },
  {
   "cell_type": "code",
   "execution_count": 247,
   "metadata": {},
   "outputs": [
    {
     "name": "stdout",
     "output_type": "stream",
     "text": [
      "--- 84.14250898361206 seconds ---\n",
      "--- 0.4207188451290131 sec/ite ---\n"
     ]
    }
   ],
   "source": [
    "import time\n",
    "\n",
    "start_time = time.time()\n",
    "iterations = 200\n",
    "for _ in range(iterations):\n",
    "    F = np.array(nib.load(pathF).dataobj)[:,:,:,0]\n",
    "    F = resampleToPixdims3(F, (2,2,2), (1,1,1))\n",
    "\n",
    "\n",
    "    F = F[10:170, 12:204, 0:160]\n",
    "    F = F / 5.678573626611138\n",
    "    \n",
    "    x_shift, y_shift, z_shift = np.random.randint(-2,3,3)\n",
    "    F = np.roll(F,x_shift,axis=0)\n",
    "    F = np.roll(F,y_shift,axis=1)\n",
    "    F = np.roll(F,z_shift,axis=2)\n",
    "    if z_shift < 0:\n",
    "        F[:,:,z_shift:] = 0\n",
    "    \n",
    "print(\"--- %s seconds ---\" % (time.time() - start_time))\n",
    "print(\"--- %s sec/ite ---\" % ((time.time() - start_time)/iterations))"
   ]
  },
  {
   "cell_type": "code",
   "execution_count": 248,
   "metadata": {},
   "outputs": [
    {
     "name": "stdout",
     "output_type": "stream",
     "text": [
      "--- 68.52946496009827 seconds ---\n",
      "--- 0.3426482951641083 sec/ite ---\n"
     ]
    }
   ],
   "source": [
    "import time\n",
    "\n",
    "m = torch.nn.Upsample(scale_factor=2, mode='trilinear', align_corners=True)\n",
    "\n",
    "start_time = time.time()\n",
    "iterations = 200\n",
    "for _ in range(iterations):\n",
    "    F = np.array(nib.load(pathF).dataobj)[:,:,:,0]\n",
    "        \n",
    "    sp = (1,1)+F.shape\n",
    "    F = F.reshape(sp)\n",
    "    F = torch.tensor(F, dtype=torch.float32)\n",
    "    F = m(F)\n",
    "    F = torch.squeeze(F)\n",
    "    F = F.detach().cpu().numpy()\n",
    "    \n",
    "    F = F[10:170, 12:204, 0:160]\n",
    "    F = F / 5.678573626611138\n",
    "    \n",
    "    x_shift, y_shift, z_shift = np.random.randint(-2,3,3)\n",
    "    F = np.roll(F,x_shift,axis=0)\n",
    "    F = np.roll(F,y_shift,axis=1)\n",
    "    F = np.roll(F,z_shift,axis=2)\n",
    "    if z_shift < 0:\n",
    "        X_volume[:,:,z_shift:] = 0\n",
    "    \n",
    "print(\"--- %s seconds ---\" % (time.time() - start_time))\n",
    "print(\"--- %s sec/ite ---\" % ((time.time() - start_time)/iterations))"
   ]
  },
  {
   "cell_type": "code",
   "execution_count": null,
   "metadata": {},
   "outputs": [],
   "source": []
  },
  {
   "cell_type": "code",
   "execution_count": 129,
   "metadata": {},
   "outputs": [],
   "source": [
    "import torch"
   ]
  },
  {
   "cell_type": "code",
   "execution_count": 137,
   "metadata": {},
   "outputs": [
    {
     "name": "stdout",
     "output_type": "stream",
     "text": [
      "tensor([[[[1., 2.],\n",
      "          [3., 4.]]]])\n",
      "tensor([[[[1., 2.],\n",
      "          [3., 4.]]]]) tensor(True)\n",
      "tensor([[[[1., 1., 2., 2.],\n",
      "          [1., 1., 2., 2.],\n",
      "          [3., 3., 4., 4.],\n",
      "          [3., 3., 4., 4.]]]])\n"
     ]
    }
   ],
   "source": [
    "a = torch.arange(1,5,dtype=torch.float32).view(1,1,2,2)\n",
    "print(a)\n",
    "m = torch.nn.Upsample(scale_factor=1, mode='nearest')\n",
    "print(m(a), (a==m(a)).all())\n",
    "m = torch.nn.Upsample(scale_factor=2, mode='nearest')\n",
    "print(m(a))"
   ]
  },
  {
   "cell_type": "code",
   "execution_count": 249,
   "metadata": {},
   "outputs": [],
   "source": [
    "pathT1 = 'T1s/T1_brain_to_MNI.nii.gz'\n",
    "pathF = \"23679812_rsfmri_original.nii.gz\""
   ]
  },
  {
   "cell_type": "code",
   "execution_count": 250,
   "metadata": {},
   "outputs": [],
   "source": [
    "X_volume = np.array(nib.load(pathT1).dataobj)\n",
    "X_volume = X_volume[10:170, 12:204, 0:160]\n",
    "X_volume = X_volume / X_volume.mean()\n",
    "X_volume = X_volume / 5.678573626611138"
   ]
  },
  {
   "cell_type": "code",
   "execution_count": 251,
   "metadata": {},
   "outputs": [],
   "source": [
    "Image(X_volume).save('T1_not_upsampled.nii.gz')"
   ]
  },
  {
   "cell_type": "code",
   "execution_count": 252,
   "metadata": {},
   "outputs": [],
   "source": [
    "m = torch.nn.Upsample(scale_factor=1, mode='trilinear', align_corners=True)"
   ]
  },
  {
   "cell_type": "code",
   "execution_count": 253,
   "metadata": {},
   "outputs": [],
   "source": [
    "sp = (1,1)+X_volume.shape\n",
    "X_volume = X_volume.reshape(sp)\n",
    "X_volume = torch.tensor(X_volume, dtype=torch.float32)\n",
    "X_volume = m(X_volume)\n",
    "X_volume = torch.squeeze(X_volume)\n",
    "X_volume = X_volume.detach().cpu().numpy()\n",
    "X_volume.squeeze()\n",
    "Image(X_volume).save('T1_upsampled_corners.nii.gz')"
   ]
  },
  {
   "cell_type": "code",
   "execution_count": 173,
   "metadata": {},
   "outputs": [],
   "source": [
    "a = torch.rand(2,1,3,3,3)"
   ]
  },
  {
   "cell_type": "code",
   "execution_count": 177,
   "metadata": {},
   "outputs": [
    {
     "name": "stdout",
     "output_type": "stream",
     "text": [
      "tensor([[[[[0.9189, 0.8165, 0.9447],\n",
      "           [0.1760, 0.4569, 0.5310],\n",
      "           [0.7899, 0.9176, 0.6699]],\n",
      "\n",
      "          [[0.0687, 0.8723, 0.8643],\n",
      "           [0.8963, 0.0224, 0.3680],\n",
      "           [0.7319, 0.8368, 0.0723]],\n",
      "\n",
      "          [[0.3943, 0.0892, 0.2589],\n",
      "           [0.7264, 0.0710, 0.1701],\n",
      "           [0.9113, 0.7552, 0.7415]]]],\n",
      "\n",
      "\n",
      "\n",
      "        [[[[0.2967, 0.4662, 0.2450],\n",
      "           [0.7177, 0.6322, 0.9085],\n",
      "           [0.5695, 0.8751, 0.9957]],\n",
      "\n",
      "          [[0.0314, 0.5051, 0.7263],\n",
      "           [0.1331, 0.3135, 0.8340],\n",
      "           [0.0552, 0.9283, 0.3625]],\n",
      "\n",
      "          [[0.1812, 0.4284, 0.1958],\n",
      "           [0.1006, 0.2259, 0.9975],\n",
      "           [0.0578, 0.1856, 0.5478]]]]])\n",
      "tensor(True)\n"
     ]
    }
   ],
   "source": [
    "print(a)\n",
    "m = torch.nn.Upsample(scale_factor=1, mode='trilinear', align_corners=False)\n",
    "print((m(a)==a).all())"
   ]
  },
  {
   "cell_type": "code",
   "execution_count": 240,
   "metadata": {},
   "outputs": [],
   "source": [
    "X_volume = np.array(nib.load(pathF).dataobj)[:,:,:,0]\n",
    "# X_volume = X_volume[5:85, 6:102, 0:80]\n",
    "# X_volume = X_volume / X_volume.mean()\n",
    "# X_volume = X_volume / 5.678573626611138"
   ]
  },
  {
   "cell_type": "code",
   "execution_count": 241,
   "metadata": {},
   "outputs": [],
   "source": [
    "Image(X_volume).save('F_not_upsampled.nii.gz')"
   ]
  },
  {
   "cell_type": "code",
   "execution_count": 242,
   "metadata": {},
   "outputs": [
    {
     "data": {
      "text/plain": [
       "(91, 109, 91)"
      ]
     },
     "execution_count": 242,
     "metadata": {},
     "output_type": "execute_result"
    }
   ],
   "source": [
    "X_volume.shape"
   ]
  },
  {
   "cell_type": "code",
   "execution_count": 243,
   "metadata": {},
   "outputs": [],
   "source": [
    "m = torch.nn.Upsample(scale_factor=2, mode='trilinear', align_corners=True)\n",
    "# m = torch.nn.Upsample(scale_factor=2, mode='nearest')"
   ]
  },
  {
   "cell_type": "code",
   "execution_count": 244,
   "metadata": {},
   "outputs": [],
   "source": [
    "sp = (1,1)+X_volume.shape\n",
    "X_volume = X_volume.reshape(sp)\n",
    "X_volume = torch.tensor(X_volume, dtype=torch.float32)\n",
    "X_volume = m(X_volume)\n",
    "X_volume = torch.squeeze(X_volume)\n",
    "X_volume = X_volume.detach().cpu().numpy()\n",
    "X_volume.squeeze()\n",
    "Image(X_volume).save('F_upsampled_align_corners.nii.gz')"
   ]
  },
  {
   "cell_type": "code",
   "execution_count": 226,
   "metadata": {},
   "outputs": [
    {
     "data": {
      "text/plain": [
       "(182, 218, 182)"
      ]
     },
     "execution_count": 226,
     "metadata": {},
     "output_type": "execute_result"
    }
   ],
   "source": [
    "X_volume.shape"
   ]
  },
  {
   "cell_type": "code",
   "execution_count": 191,
   "metadata": {},
   "outputs": [
    {
     "name": "stdout",
     "output_type": "stream",
     "text": [
      "tensor([[[[[0.4215, 0.9487, 0.6148],\n",
      "           [0.9554, 0.1768, 0.2370],\n",
      "           [0.6592, 0.3822, 0.0218]],\n",
      "\n",
      "          [[0.3086, 0.1507, 0.1317],\n",
      "           [0.4160, 0.3796, 0.8977],\n",
      "           [0.8321, 0.4448, 0.7884]],\n",
      "\n",
      "          [[0.1443, 0.1440, 0.8496],\n",
      "           [0.4992, 0.7481, 0.8816],\n",
      "           [0.1490, 0.9836, 0.5094]]]],\n",
      "\n",
      "\n",
      "\n",
      "        [[[[0.8054, 0.4583, 0.9790],\n",
      "           [0.7815, 0.3667, 0.7266],\n",
      "           [0.6912, 0.9054, 0.8204]],\n",
      "\n",
      "          [[0.8273, 0.0209, 0.8125],\n",
      "           [0.9156, 0.4734, 0.7948],\n",
      "           [0.3005, 0.1378, 0.0239]],\n",
      "\n",
      "          [[0.0351, 0.9434, 0.1124],\n",
      "           [0.0092, 0.5157, 0.3472],\n",
      "           [0.6070, 0.0259, 0.3083]]]]])\n",
      "torch.Size([2, 1, 6, 6, 6])\n",
      "tensor([[[[[0.4215, 0.5533, 0.8169, 0.8652, 0.6983, 0.6148],\n",
      "           [0.5550, 0.6052, 0.7055, 0.6969, 0.5792, 0.5204],\n",
      "           [0.8219, 0.7089, 0.4828, 0.3602, 0.3410, 0.3315],\n",
      "           [0.8814, 0.7181, 0.3915, 0.2169, 0.1944, 0.1832],\n",
      "           [0.7333, 0.6327, 0.4314, 0.2670, 0.1394, 0.0756],\n",
      "           [0.6592, 0.5900, 0.4514, 0.2921, 0.1119, 0.0218]],\n",
      "\n",
      "          [[0.3933, 0.4822, 0.6602, 0.6854, 0.5578, 0.4941],\n",
      "           [0.5001, 0.5298, 0.5891, 0.5819, 0.5080, 0.4711],\n",
      "           [0.7138, 0.6248, 0.4469, 0.3747, 0.4083, 0.4251],\n",
      "           [0.7911, 0.6608, 0.4003, 0.2913, 0.3338, 0.3550],\n",
      "           [0.7320, 0.6378, 0.4494, 0.3316, 0.2843, 0.2606],\n",
      "           [0.7025, 0.6263, 0.4740, 0.3517, 0.2596, 0.2135]],\n",
      "\n",
      "          [[0.3368, 0.3402, 0.3468, 0.3258, 0.2769, 0.2525],\n",
      "           [0.3903, 0.3790, 0.3562, 0.3518, 0.3656, 0.3725],\n",
      "           [0.4974, 0.4566, 0.3750, 0.4038, 0.5429, 0.6125],\n",
      "           [0.6104, 0.5463, 0.4180, 0.4401, 0.6124, 0.6986],\n",
      "           [0.7294, 0.6481, 0.4854, 0.4607, 0.5740, 0.6307],\n",
      "           [0.7889, 0.6990, 0.5191, 0.4710, 0.5549, 0.5968]],\n",
      "\n",
      "          [[0.2675, 0.2379, 0.1786, 0.1895, 0.2707, 0.3112],\n",
      "           [0.3099, 0.2898, 0.2497, 0.2865, 0.4000, 0.4568],\n",
      "           [0.3945, 0.3936, 0.3919, 0.4803, 0.6588, 0.7480],\n",
      "           [0.4929, 0.4944, 0.4972, 0.5865, 0.7621, 0.8499],\n",
      "           [0.6052, 0.5920, 0.5657, 0.6050, 0.7099, 0.7624],\n",
      "           [0.6614, 0.6409, 0.6000, 0.6143, 0.6839, 0.7186]],\n",
      "\n",
      "          [[0.1854, 0.1755, 0.1556, 0.2768, 0.5390, 0.6701],\n",
      "           [0.2586, 0.2623, 0.2696, 0.3859, 0.6113, 0.7240],\n",
      "           [0.4051, 0.4359, 0.4976, 0.6042, 0.7559, 0.8317],\n",
      "           [0.4387, 0.5051, 0.6378, 0.7304, 0.7828, 0.8090],\n",
      "           [0.3594, 0.4697, 0.6904, 0.7644, 0.6920, 0.6557],\n",
      "           [0.3198, 0.4521, 0.7166, 0.7815, 0.6466, 0.5791]],\n",
      "\n",
      "          [[0.1443, 0.1442, 0.1441, 0.3204, 0.6732, 0.8496],\n",
      "           [0.2330, 0.2485, 0.2795, 0.4357, 0.7169, 0.8576],\n",
      "           [0.4104, 0.4571, 0.5504, 0.6662, 0.8045, 0.8736],\n",
      "           [0.4116, 0.5105, 0.7082, 0.8024, 0.7932, 0.7885],\n",
      "           [0.2365, 0.4086, 0.7527, 0.8442, 0.6830, 0.6024],\n",
      "           [0.1490, 0.3577, 0.7750, 0.8651, 0.6279, 0.5094]]]],\n",
      "\n",
      "\n",
      "\n",
      "        [[[[0.8054, 0.7186, 0.5451, 0.5885, 0.8488, 0.9790],\n",
      "           [0.7994, 0.7084, 0.5264, 0.5555, 0.7958, 0.9159],\n",
      "           [0.7875, 0.6880, 0.4891, 0.4896, 0.6897, 0.7897],\n",
      "           [0.7589, 0.6946, 0.5658, 0.5636, 0.6879, 0.7501],\n",
      "           [0.7137, 0.7280, 0.7565, 0.7773, 0.7904, 0.7970],\n",
      "           [0.6912, 0.7447, 0.8519, 0.8842, 0.8417, 0.8204]],\n",
      "\n",
      "          [[0.8109, 0.6954, 0.4644, 0.4960, 0.7903, 0.9374],\n",
      "           [0.8119, 0.6990, 0.4730, 0.4923, 0.7567, 0.8889],\n",
      "           [0.8140, 0.7061, 0.4902, 0.4847, 0.6896, 0.7921],\n",
      "           [0.7597, 0.6881, 0.5450, 0.5333, 0.6532, 0.7131],\n",
      "           [0.6489, 0.6450, 0.6373, 0.6381, 0.6473, 0.6519],\n",
      "           [0.5935, 0.6235, 0.6835, 0.6905, 0.6444, 0.6213]],\n",
      "\n",
      "          [[0.8218, 0.6489, 0.3031, 0.3112, 0.6731, 0.8541],\n",
      "           [0.8369, 0.6800, 0.3663, 0.3658, 0.6786, 0.8350],\n",
      "           [0.8670, 0.7422, 0.4925, 0.4749, 0.6896, 0.7969],\n",
      "           [0.7611, 0.6752, 0.5034, 0.4729, 0.5837, 0.6391],\n",
      "           [0.5192, 0.4791, 0.3990, 0.3597, 0.3610, 0.3617],\n",
      "           [0.3982, 0.3811, 0.3469, 0.3031, 0.2497, 0.2230]],\n",
      "\n",
      "          [[0.6292, 0.5348, 0.3460, 0.3480, 0.5410, 0.6375],\n",
      "           [0.6442, 0.5605, 0.3933, 0.3944, 0.5640, 0.6488],\n",
      "           [0.6741, 0.6120, 0.4879, 0.4873, 0.6101, 0.6716],\n",
      "           [0.6110, 0.5559, 0.4456, 0.4268, 0.4996, 0.5359],\n",
      "           [0.4551, 0.3922, 0.2663, 0.2130, 0.2323, 0.2420],\n",
      "           [0.3771, 0.3103, 0.1767, 0.1061, 0.0987, 0.0950]],\n",
      "\n",
      "          [[0.2331, 0.3530, 0.5928, 0.6064, 0.3938, 0.2874],\n",
      "           [0.2338, 0.3406, 0.5541, 0.5782, 0.4130, 0.3304],\n",
      "           [0.2352, 0.3156, 0.4766, 0.5218, 0.4514, 0.4162],\n",
      "           [0.3095, 0.3302, 0.3716, 0.3952, 0.4008, 0.4036],\n",
      "           [0.4567, 0.3842, 0.2392, 0.1982, 0.2612, 0.2927],\n",
      "           [0.5304, 0.4112, 0.1730, 0.0997, 0.1914, 0.2372]],\n",
      "\n",
      "          [[0.0351, 0.2621, 0.7163, 0.7356, 0.3202, 0.1124],\n",
      "           [0.0286, 0.2306, 0.6345, 0.6701, 0.3374, 0.1711],\n",
      "           [0.0157, 0.1674, 0.4709, 0.5391, 0.3720, 0.2885],\n",
      "           [0.1587, 0.2173, 0.3346, 0.3793, 0.3514, 0.3375],\n",
      "           [0.4575, 0.3802, 0.2257, 0.1908, 0.2756, 0.3180],\n",
      "           [0.6070, 0.4617, 0.1712, 0.0965, 0.2377, 0.3083]]]]])\n"
     ]
    }
   ],
   "source": [
    "a = torch.rand(2,1,3,3,3)\n",
    "print(a)\n",
    "m = torch.nn.Upsample(scale_factor=2, mode='nearest ', align_corners=False)\n",
    "print(m(a).shape)\n",
    "print(m(a))"
   ]
  },
  {
   "cell_type": "code",
   "execution_count": null,
   "metadata": {},
   "outputs": [],
   "source": []
  }
 ],
 "metadata": {
  "kernelspec": {
   "display_name": "Python 3 (ipykernel)",
   "language": "python",
   "name": "python3"
  },
  "language_info": {
   "codemirror_mode": {
    "name": "ipython",
    "version": 3
   },
   "file_extension": ".py",
   "mimetype": "text/x-python",
   "name": "python",
   "nbconvert_exporter": "python",
   "pygments_lexer": "ipython3",
   "version": "3.7.11"
  }
 },
 "nbformat": 4,
 "nbformat_minor": 4
}
