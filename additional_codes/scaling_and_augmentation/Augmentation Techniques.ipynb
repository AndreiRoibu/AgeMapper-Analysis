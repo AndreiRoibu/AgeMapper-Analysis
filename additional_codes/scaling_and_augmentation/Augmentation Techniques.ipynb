{
 "cells": [
  {
   "cell_type": "code",
   "execution_count": 1,
   "metadata": {},
   "outputs": [],
   "source": [
    "import os\n",
    "import pickle\n",
    "import numpy as np\n",
    "import configparser\n",
    "import pandas as pd\n",
    "from fsl.data.image import Image\n",
    "import matplotlib.pyplot as plt\n",
    "import seaborn as sns\n",
    "sns.set()\n",
    "import numpy as np\n",
    "from fsl.data.image import Image\n",
    "from fsl.utils.image.resample import resampleToPixdims\n",
    "from fsl.utils.image.roi import roi\n",
    "import torch"
   ]
  },
  {
   "cell_type": "code",
   "execution_count": 2,
   "metadata": {},
   "outputs": [],
   "source": [
    "pathT1 = 'T1s/T1_brain_to_MNI.nii.gz'\n",
    "pathF = \"23679812_rsfmri_original\""
   ]
  },
  {
   "cell_type": "code",
   "execution_count": 3,
   "metadata": {},
   "outputs": [],
   "source": [
    "T1 = Image(pathT1).data\n",
    "F = Image(pathF).data[:,:,:,0]"
   ]
  },
  {
   "cell_type": "code",
   "execution_count": 4,
   "metadata": {},
   "outputs": [
    {
     "name": "stdout",
     "output_type": "stream",
     "text": [
      "(182, 218, 182) (91, 109, 91)\n"
     ]
    }
   ],
   "source": [
    "print(T1.shape, F.shape)"
   ]
  },
  {
   "cell_type": "code",
   "execution_count": 5,
   "metadata": {},
   "outputs": [],
   "source": [
    "F = Image(pathF).data[:,:,:,0]\n",
    "F, xform = resampleToPixdims(Image(F, header=Image(pathF).header), (1,1,1))\n",
    "header = Image(F, header=Image(pathF).header, xform=xform).header"
   ]
  },
  {
   "cell_type": "code",
   "execution_count": 6,
   "metadata": {},
   "outputs": [
    {
     "name": "stdout",
     "output_type": "stream",
     "text": [
      "(182, 218, 182) (182, 218, 182)\n"
     ]
    }
   ],
   "source": [
    "print(T1.shape, F.shape)"
   ]
  },
  {
   "cell_type": "code",
   "execution_count": 7,
   "metadata": {},
   "outputs": [],
   "source": [
    "outF = Image(F, header=header, xform=xform)\n",
    "Image(outF).save(\"F_1mm_orig.nii.gz\")"
   ]
  },
  {
   "cell_type": "code",
   "execution_count": 8,
   "metadata": {},
   "outputs": [],
   "source": [
    "T1 = roi(Image(pathT1),((10,170),(12,204),(0,160))).data\n",
    "F = Image(pathF).data[:,:,:,0]\n",
    "F, xform = resampleToPixdims(Image(F, header=Image(pathF).header), (1,1,1))\n",
    "F = roi(Image(F, header=Image(pathF).header, xform=xform),((10,170),(12,204),(0,160))).data"
   ]
  },
  {
   "cell_type": "code",
   "execution_count": 9,
   "metadata": {},
   "outputs": [
    {
     "name": "stdout",
     "output_type": "stream",
     "text": [
      "(160, 192, 160) (160, 192, 160)\n"
     ]
    }
   ],
   "source": [
    "print(T1.shape, F.shape)"
   ]
  },
  {
   "cell_type": "code",
   "execution_count": 10,
   "metadata": {},
   "outputs": [],
   "source": [
    "Image(T1).save('T1_1mm_cropped.nii.gz')\n",
    "Image(F).save('F_1mm_cropped.nii.gz')"
   ]
  },
  {
   "cell_type": "markdown",
   "metadata": {},
   "source": [
    "# Mirror"
   ]
  },
  {
   "cell_type": "code",
   "execution_count": 11,
   "metadata": {},
   "outputs": [
    {
     "name": "stdout",
     "output_type": "stream",
     "text": [
      "0 0.0\n"
     ]
    }
   ],
   "source": [
    "yes=0\n",
    "for i in range(10000):\n",
    "    x = np.random.rand(1)\n",
    "    if x == 1:\n",
    "        yes += 1\n",
    "print(yes, yes/10000)"
   ]
  },
  {
   "cell_type": "code",
   "execution_count": 72,
   "metadata": {},
   "outputs": [],
   "source": [
    "T1_flip = np.flip(T1,0)\n",
    "F_flip = np.flip(F,0)"
   ]
  },
  {
   "cell_type": "code",
   "execution_count": 71,
   "metadata": {},
   "outputs": [
    {
     "data": {
      "text/plain": [
       "(160, 192, 160)"
      ]
     },
     "execution_count": 71,
     "metadata": {},
     "output_type": "execute_result"
    }
   ],
   "source": [
    "T1_flip.shape"
   ]
  },
  {
   "cell_type": "code",
   "execution_count": 73,
   "metadata": {},
   "outputs": [],
   "source": [
    "Image(T1_flip).save('T1_FLIP_1mm_cropped.nii.gz')\n",
    "Image(F_flip).save('F_FLIP_1mm_cropped.nii.gz')"
   ]
  },
  {
   "cell_type": "markdown",
   "metadata": {},
   "source": [
    "# Shift"
   ]
  },
  {
   "cell_type": "code",
   "execution_count": 87,
   "metadata": {},
   "outputs": [],
   "source": [
    "x = np.random.randint(-2,3)\n",
    "y = np.random.randint(-2,3)\n",
    "z = np.random.randint(-2,3)"
   ]
  },
  {
   "cell_type": "code",
   "execution_count": 88,
   "metadata": {},
   "outputs": [],
   "source": [
    "T1_shift = np.roll(T1,x,axis=0)\n",
    "T1_shift = np.roll(T1_shift,y,axis=1)\n",
    "T1_shift = np.roll(T1_shift,z,axis=2)"
   ]
  },
  {
   "cell_type": "code",
   "execution_count": 89,
   "metadata": {},
   "outputs": [],
   "source": [
    "Image(T1_shift).save('T1_shift_random_1mm_cropped.nii.gz')"
   ]
  },
  {
   "cell_type": "code",
   "execution_count": 90,
   "metadata": {},
   "outputs": [
    {
     "name": "stdout",
     "output_type": "stream",
     "text": [
      "2 -1 -1\n"
     ]
    }
   ],
   "source": [
    "print(x,y,z)"
   ]
  },
  {
   "cell_type": "code",
   "execution_count": 92,
   "metadata": {},
   "outputs": [],
   "source": [
    "x, y, z = 2, 2, 2\n",
    "T1_shift = np.roll(T1,x,axis=0)\n",
    "T1_shift = np.roll(T1_shift,y,axis=1)\n",
    "T1_shift = np.roll(T1_shift,z,axis=2)\n",
    "Image(T1_shift).save('T1_shift_222_1mm_cropped.nii.gz')\n",
    "F_shift = np.roll(F,x,axis=0)\n",
    "F_shift = np.roll(F_shift,y,axis=1)\n",
    "F_shift = np.roll(F_shift,z,axis=2)\n",
    "Image(F_shift).save('F_shift_222_1mm_cropped.nii.gz')"
   ]
  },
  {
   "cell_type": "code",
   "execution_count": 93,
   "metadata": {},
   "outputs": [],
   "source": [
    "x, y, z = -2, -2, -2\n",
    "T1_shift = np.roll(T1,x,axis=0)\n",
    "T1_shift = np.roll(T1_shift,y,axis=1)\n",
    "T1_shift = np.roll(T1_shift,z,axis=2)\n",
    "Image(T1_shift).save('T1_shift_-2-2-2_1mm_cropped.nii.gz')\n",
    "F_shift = np.roll(F,x,axis=0)\n",
    "F_shift = np.roll(F_shift,y,axis=1)\n",
    "F_shift = np.roll(F_shift,z,axis=2)\n",
    "Image(F_shift).save('F_shift_-2-2-2_1mm_cropped.nii.gz')"
   ]
  },
  {
   "cell_type": "code",
   "execution_count": 94,
   "metadata": {},
   "outputs": [],
   "source": [
    "from scipy.ndimage import shift"
   ]
  },
  {
   "cell_type": "code",
   "execution_count": 97,
   "metadata": {},
   "outputs": [],
   "source": [
    "x, y, z = -2, -2, -2\n",
    "T1_shift = shift(T1,(-2,-2,-2))\n",
    "Image(T1_shift).save('T1_shift_-2-2-2_1mm_cropped.nii.gz')"
   ]
  },
  {
   "cell_type": "code",
   "execution_count": 98,
   "metadata": {},
   "outputs": [],
   "source": [
    "x, y, z = 2, 2, 2\n",
    "T1_shift = shift(T1,(x,y,z))\n",
    "Image(T1_shift).save('T1_shift_222_1mm_cropped.nii.gz')"
   ]
  },
  {
   "cell_type": "code",
   "execution_count": 102,
   "metadata": {
    "scrolled": true
   },
   "outputs": [
    {
     "name": "stdout",
     "output_type": "stream",
     "text": [
      "2 1 -1\n",
      "1 2 1\n",
      "-1 -1 1\n",
      "-1 -1 -1\n",
      "-2 -2 1\n",
      "2 -2 1\n",
      "2 2 -2\n",
      "-2 -2 -1\n",
      "-2 0 1\n",
      "-1 2 1\n",
      "0 2 -2\n",
      "0 -2 0\n",
      "0 -1 1\n",
      "1 2 -2\n",
      "2 -1 -1\n",
      "2 -1 -2\n",
      "0 2 -1\n",
      "2 -1 1\n",
      "2 1 -2\n",
      "-2 0 0\n",
      "0 0 -2\n",
      "-1 -2 1\n",
      "-2 1 2\n",
      "-1 -2 0\n",
      "-1 0 -2\n",
      "2 1 0\n",
      "-2 -2 -1\n",
      "-1 2 0\n",
      "1 1 1\n",
      "-2 -2 -1\n",
      "2 0 0\n",
      "-1 2 -2\n",
      "1 -2 1\n",
      "1 1 1\n",
      "1 -1 -2\n",
      "2 0 -2\n",
      "1 -1 0\n",
      "2 -2 2\n",
      "0 -1 1\n",
      "0 0 -1\n",
      "1 1 -1\n",
      "-1 -1 -2\n",
      "2 -1 0\n",
      "1 1 2\n",
      "-1 -2 -2\n",
      "-1 -2 -2\n",
      "-2 -1 -2\n",
      "1 2 -2\n",
      "-1 -1 -1\n",
      "2 2 1\n",
      "0 1 -2\n",
      "0 -2 0\n",
      "-2 0 -1\n",
      "1 2 0\n",
      "2 -2 -2\n",
      "-1 0 -2\n",
      "-1 -2 2\n",
      "-2 0 -2\n",
      "2 -2 1\n",
      "-2 -1 2\n"
     ]
    }
   ],
   "source": [
    "for i in range(60):\n",
    "    x,y,z = np.random.randint(-2,3,3)\n",
    "    print(x,y,z)"
   ]
  },
  {
   "cell_type": "code",
   "execution_count": 105,
   "metadata": {},
   "outputs": [],
   "source": [
    "a = None\n",
    "if a is not None:\n",
    "    print('yes!')"
   ]
  },
  {
   "cell_type": "code",
   "execution_count": 106,
   "metadata": {},
   "outputs": [],
   "source": [
    "T1_shift = shift(T1,np.random.randint(-2,3,3))\n",
    "Image(T1_shift).save('T1_shift_random1_1mm_cropped.nii.gz')"
   ]
  },
  {
   "cell_type": "code",
   "execution_count": 107,
   "metadata": {},
   "outputs": [],
   "source": [
    "T1_shift = shift(T1,np.random.randint(-2,3,3))\n",
    "Image(T1_shift).save('T1_shift_random2_1mm_cropped.nii.gz')"
   ]
  },
  {
   "cell_type": "code",
   "execution_count": 108,
   "metadata": {},
   "outputs": [],
   "source": [
    "T1_shift = shift(T1,np.random.randint(-2,3,3))\n",
    "Image(T1_shift).save('T1_shift_random3_1mm_cropped.nii.gz')"
   ]
  },
  {
   "cell_type": "code",
   "execution_count": null,
   "metadata": {},
   "outputs": [],
   "source": []
  },
  {
   "cell_type": "code",
   "execution_count": null,
   "metadata": {},
   "outputs": [],
   "source": []
  },
  {
   "cell_type": "code",
   "execution_count": 110,
   "metadata": {},
   "outputs": [],
   "source": [
    "import time"
   ]
  },
  {
   "cell_type": "code",
   "execution_count": 116,
   "metadata": {},
   "outputs": [
    {
     "name": "stdout",
     "output_type": "stream",
     "text": [
      "--- 10.829967260360718 seconds ---\n",
      "--- 0.21660462379455567 sec/ite ---\n"
     ]
    }
   ],
   "source": [
    "start_time = time.time()\n",
    "iterations = 50\n",
    "for _ in range(iterations):\n",
    "    X_volume = roi(Image(pathT1),((10,170),(12,204),(0,160))).data\n",
    "    X_volume = X_volume / X_volume.mean()\n",
    "    X_volume = X_volume / 5.678573626611138\n",
    "print(\"--- %s seconds ---\" % (time.time() - start_time))\n",
    "print(\"--- %s sec/ite ---\" % ((time.time() - start_time)/iterations))"
   ]
  },
  {
   "cell_type": "code",
   "execution_count": 127,
   "metadata": {},
   "outputs": [],
   "source": [
    "import nibabel as nib\n",
    "# X_volume = nib.load(pathT1).get_fdata()\n",
    "X_volume = np.array(nib.load(pathT1).dataobj)"
   ]
  },
  {
   "cell_type": "code",
   "execution_count": 128,
   "metadata": {},
   "outputs": [
    {
     "data": {
      "text/plain": [
       "numpy.ndarray"
      ]
     },
     "execution_count": 128,
     "metadata": {},
     "output_type": "execute_result"
    }
   ],
   "source": [
    "type(X_volume)"
   ]
  },
  {
   "cell_type": "code",
   "execution_count": 129,
   "metadata": {},
   "outputs": [
    {
     "data": {
      "text/plain": [
       "(182, 218, 182)"
      ]
     },
     "execution_count": 129,
     "metadata": {},
     "output_type": "execute_result"
    }
   ],
   "source": [
    "X_volume.shape"
   ]
  },
  {
   "cell_type": "code",
   "execution_count": 135,
   "metadata": {},
   "outputs": [
    {
     "name": "stdout",
     "output_type": "stream",
     "text": [
      "--- 26.80862808227539 seconds ---\n",
      "--- 0.13404414534568787 sec/ite ---\n"
     ]
    }
   ],
   "source": [
    "start_time = time.time()\n",
    "iterations = 200\n",
    "for _ in range(iterations):\n",
    "    X_volume = Image(pathT1).data\n",
    "print(\"--- %s seconds ---\" % (time.time() - start_time))\n",
    "print(\"--- %s sec/ite ---\" % ((time.time() - start_time)/iterations))"
   ]
  },
  {
   "cell_type": "code",
   "execution_count": 136,
   "metadata": {},
   "outputs": [
    {
     "name": "stdout",
     "output_type": "stream",
     "text": [
      "--- 17.957834005355835 seconds ---\n",
      "--- 0.08979011416435241 sec/ite ---\n"
     ]
    }
   ],
   "source": [
    "start_time = time.time()\n",
    "iterations = 200\n",
    "for _ in range(iterations):\n",
    "    X_volume = nib.load(pathT1).get_fdata()\n",
    "print(\"--- %s seconds ---\" % (time.time() - start_time))\n",
    "print(\"--- %s sec/ite ---\" % ((time.time() - start_time)/iterations))"
   ]
  },
  {
   "cell_type": "code",
   "execution_count": 137,
   "metadata": {},
   "outputs": [
    {
     "name": "stdout",
     "output_type": "stream",
     "text": [
      "--- 17.332031965255737 seconds ---\n",
      "--- 0.08666112422943115 sec/ite ---\n"
     ]
    }
   ],
   "source": [
    "start_time = time.time()\n",
    "iterations = 200\n",
    "for _ in range(iterations):\n",
    "    X_volume = np.array(nib.load(pathT1).dataobj)\n",
    "print(\"--- %s seconds ---\" % (time.time() - start_time))\n",
    "print(\"--- %s sec/ite ---\" % ((time.time() - start_time)/iterations))"
   ]
  },
  {
   "cell_type": "code",
   "execution_count": null,
   "metadata": {},
   "outputs": [],
   "source": []
  },
  {
   "cell_type": "code",
   "execution_count": 138,
   "metadata": {},
   "outputs": [],
   "source": [
    "X_volume = roi(Image(pathT1),((10,170),(12,204),(0,160))).data\n",
    "Image(X_volume).save('cropping1.nii.gz')\n",
    "X_volume = np.array(nib.load(pathT1).dataobj)\n",
    "X_volume = X_volume[10:170, 12:204, 0:160]\n",
    "Image(X_volume).save('cropping2.nii.gz')"
   ]
  },
  {
   "cell_type": "code",
   "execution_count": null,
   "metadata": {},
   "outputs": [],
   "source": []
  },
  {
   "cell_type": "code",
   "execution_count": null,
   "metadata": {},
   "outputs": [],
   "source": []
  },
  {
   "cell_type": "code",
   "execution_count": 143,
   "metadata": {},
   "outputs": [
    {
     "name": "stdout",
     "output_type": "stream",
     "text": [
      "--- 40.19614005088806 seconds ---\n",
      "--- 0.20098173022270202 sec/ite ---\n"
     ]
    }
   ],
   "source": [
    "start_time = time.time()\n",
    "iterations = 200\n",
    "for _ in range(iterations):\n",
    "    X_volume = roi(Image(pathT1),((10,170),(12,204),(0,160))).data\n",
    "print(\"--- %s seconds ---\" % (time.time() - start_time))\n",
    "print(\"--- %s sec/ite ---\" % ((time.time() - start_time)/iterations))"
   ]
  },
  {
   "cell_type": "code",
   "execution_count": 144,
   "metadata": {},
   "outputs": [
    {
     "name": "stdout",
     "output_type": "stream",
     "text": [
      "--- 17.2789888381958 seconds ---\n",
      "--- 0.08639615893363953 sec/ite ---\n"
     ]
    }
   ],
   "source": [
    "start_time = time.time()\n",
    "iterations = 200\n",
    "for _ in range(iterations):\n",
    "    X_volume = np.array(nib.load(pathT1).dataobj)\n",
    "    X_volume = X_volume[10:170, 12:204, 0:160]\n",
    "print(\"--- %s seconds ---\" % (time.time() - start_time))\n",
    "print(\"--- %s sec/ite ---\" % ((time.time() - start_time)/iterations))"
   ]
  },
  {
   "cell_type": "code",
   "execution_count": null,
   "metadata": {},
   "outputs": [],
   "source": []
  },
  {
   "cell_type": "code",
   "execution_count": null,
   "metadata": {},
   "outputs": [],
   "source": []
  },
  {
   "cell_type": "code",
   "execution_count": null,
   "metadata": {},
   "outputs": [],
   "source": []
  },
  {
   "cell_type": "code",
   "execution_count": 145,
   "metadata": {},
   "outputs": [
    {
     "name": "stdout",
     "output_type": "stream",
     "text": [
      "--- 42.350740909576416 seconds ---\n",
      "--- 0.21175487518310546 sec/ite ---\n"
     ]
    }
   ],
   "source": [
    "start_time = time.time()\n",
    "iterations = 200\n",
    "for _ in range(iterations):\n",
    "    X_volume = roi(Image(pathT1),((10,170),(12,204),(0,160))).data\n",
    "    X_volume = X_volume / X_volume.mean()\n",
    "    X_volume = X_volume / 5.678573626611138\n",
    "print(\"--- %s seconds ---\" % (time.time() - start_time))\n",
    "print(\"--- %s sec/ite ---\" % ((time.time() - start_time)/iterations))"
   ]
  },
  {
   "cell_type": "code",
   "execution_count": 146,
   "metadata": {},
   "outputs": [
    {
     "name": "stdout",
     "output_type": "stream",
     "text": [
      "--- 20.052184104919434 seconds ---\n",
      "--- 0.10026201486587524 sec/ite ---\n"
     ]
    }
   ],
   "source": [
    "start_time = time.time()\n",
    "iterations = 200\n",
    "for _ in range(iterations):\n",
    "    X_volume = np.array(nib.load(pathT1).dataobj)\n",
    "    X_volume = X_volume[10:170, 12:204, 0:160]\n",
    "    X_volume = X_volume / X_volume.mean()\n",
    "    X_volume = X_volume / 5.678573626611138\n",
    "print(\"--- %s seconds ---\" % (time.time() - start_time))\n",
    "print(\"--- %s sec/ite ---\" % ((time.time() - start_time)/iterations))"
   ]
  },
  {
   "cell_type": "code",
   "execution_count": null,
   "metadata": {},
   "outputs": [],
   "source": []
  },
  {
   "cell_type": "code",
   "execution_count": null,
   "metadata": {},
   "outputs": [],
   "source": []
  },
  {
   "cell_type": "code",
   "execution_count": null,
   "metadata": {},
   "outputs": [],
   "source": []
  },
  {
   "cell_type": "code",
   "execution_count": 147,
   "metadata": {},
   "outputs": [
    {
     "name": "stdout",
     "output_type": "stream",
     "text": [
      "--- 287.2535500526428 seconds ---\n",
      "--- 1.4362686359882355 sec/ite ---\n"
     ]
    }
   ],
   "source": [
    "start_time = time.time()\n",
    "iterations = 200\n",
    "for _ in range(iterations):\n",
    "    X_volume = np.array(nib.load(pathT1).dataobj)\n",
    "    X_volume = X_volume[10:170, 12:204, 0:160]\n",
    "    X_volume = X_volume / X_volume.mean()\n",
    "    X_volume = X_volume / 5.678573626611138\n",
    "    \n",
    "    x_shift, y_shift, z_shift = np.random.randint(-2,3,3)\n",
    "    X_volume = shift(X_volume,(x_shift, y_shift, z_shift))\n",
    "    \n",
    "print(\"--- %s seconds ---\" % (time.time() - start_time))\n",
    "print(\"--- %s sec/ite ---\" % ((time.time() - start_time)/iterations))"
   ]
  },
  {
   "cell_type": "code",
   "execution_count": 148,
   "metadata": {},
   "outputs": [
    {
     "name": "stdout",
     "output_type": "stream",
     "text": [
      "--- 293.40105509757996 seconds ---\n",
      "--- 1.4670061540603638 sec/ite ---\n"
     ]
    }
   ],
   "source": [
    "start_time = time.time()\n",
    "iterations = 200\n",
    "for _ in range(iterations):\n",
    "    X_volume = np.array(nib.load(pathT1).dataobj)\n",
    "    X_volume = X_volume[10:170, 12:204, 0:160]\n",
    "    X_volume = X_volume / X_volume.mean()\n",
    "    X_volume = X_volume / 5.678573626611138\n",
    "    \n",
    "    x_shift = np.random.randint(-2,3)\n",
    "    y_shift = np.random.randint(-2,3)\n",
    "    z_shift = np.random.randint(-2,3)\n",
    "    X_volume = shift(X_volume,(x_shift, y_shift, z_shift))\n",
    "    \n",
    "print(\"--- %s seconds ---\" % (time.time() - start_time))\n",
    "print(\"--- %s sec/ite ---\" % ((time.time() - start_time)/iterations))"
   ]
  },
  {
   "cell_type": "code",
   "execution_count": 223,
   "metadata": {},
   "outputs": [
    {
     "name": "stdout",
     "output_type": "stream",
     "text": [
      "--- 23.305166006088257 seconds ---\n",
      "--- 0.116526939868927 sec/ite ---\n"
     ]
    }
   ],
   "source": [
    "start_time = time.time()\n",
    "iterations = 200\n",
    "for _ in range(iterations):\n",
    "    X_volume = np.array(nib.load(pathT1).dataobj)\n",
    "    X_volume = X_volume[10:170, 12:204, 0:160]\n",
    "    X_volume = X_volume / X_volume.mean()\n",
    "    X_volume = X_volume / 5.678573626611138\n",
    "    \n",
    "    x_shift = np.random.randint(-2,3)\n",
    "    y_shift = np.random.randint(-2,3)\n",
    "    z_shift = np.random.randint(-2,3)\n",
    "    \n",
    "    X_volume = np.roll(X_volume,x_shift,axis=0)\n",
    "    X_volume = np.roll(X_volume,y_shift,axis=1)\n",
    "    X_volume = np.roll(X_volume,z_shift,axis=2)\n",
    "    \n",
    "    \n",
    "print(\"--- %s seconds ---\" % (time.time() - start_time))\n",
    "print(\"--- %s sec/ite ---\" % ((time.time() - start_time)/iterations))"
   ]
  },
  {
   "cell_type": "code",
   "execution_count": 224,
   "metadata": {},
   "outputs": [
    {
     "name": "stdout",
     "output_type": "stream",
     "text": [
      "--- 23.228561878204346 seconds ---\n",
      "--- 0.11614391088485718 sec/ite ---\n"
     ]
    }
   ],
   "source": [
    "start_time = time.time()\n",
    "iterations = 200\n",
    "for _ in range(iterations):\n",
    "    X_volume = np.array(nib.load(pathT1).dataobj)\n",
    "    X_volume = X_volume[10:170, 12:204, 0:160]\n",
    "    X_volume = X_volume / X_volume.mean()\n",
    "    X_volume = X_volume / 5.678573626611138\n",
    "    \n",
    "    x_shift, y_shift, z_shift = np.random.randint(-2,3,3)\n",
    "    X_volume = np.roll(X_volume,x_shift,axis=0)\n",
    "    X_volume = np.roll(X_volume,y_shift,axis=1)\n",
    "    X_volume = np.roll(X_volume,z_shift,axis=2)\n",
    "    \n",
    "print(\"--- %s seconds ---\" % (time.time() - start_time))\n",
    "print(\"--- %s sec/ite ---\" % ((time.time() - start_time)/iterations))"
   ]
  },
  {
   "cell_type": "code",
   "execution_count": 152,
   "metadata": {},
   "outputs": [
    {
     "name": "stdout",
     "output_type": "stream",
     "text": [
      "--- 290.2121911048889 seconds ---\n",
      "--- 1.4510618257522583 sec/ite ---\n"
     ]
    }
   ],
   "source": [
    "start_time = time.time()\n",
    "iterations = 200\n",
    "for _ in range(iterations):\n",
    "    X_volume = np.array(nib.load(pathT1).dataobj)\n",
    "    X_volume = X_volume[10:170, 12:204, 0:160]\n",
    "    X_volume = X_volume / X_volume.mean()\n",
    "    X_volume = X_volume / 5.678573626611138\n",
    "    \n",
    "    x_shift = int(torch.randint(low=-2,high=3,size=(1,1)).numpy()[0,0])\n",
    "    y_shift = int(torch.randint(low=-2,high=3,size=(1,1)).numpy()[0,0])\n",
    "    z_shift = int(torch.randint(low=-2,high=3,size=(1,1)).numpy()[0,0])\n",
    "    X_volume = shift(X_volume,(x_shift, y_shift, z_shift))\n",
    "    \n",
    "print(\"--- %s seconds ---\" % (time.time() - start_time))\n",
    "print(\"--- %s sec/ite ---\" % ((time.time() - start_time)/iterations))"
   ]
  },
  {
   "cell_type": "code",
   "execution_count": 153,
   "metadata": {},
   "outputs": [
    {
     "name": "stdout",
     "output_type": "stream",
     "text": [
      "--- 23.23601198196411 seconds ---\n",
      "--- 0.11618105053901673 sec/ite ---\n"
     ]
    }
   ],
   "source": [
    "start_time = time.time()\n",
    "iterations = 200\n",
    "for _ in range(iterations):\n",
    "    X_volume = np.array(nib.load(pathT1).dataobj)\n",
    "    X_volume = X_volume[10:170, 12:204, 0:160]\n",
    "    X_volume = X_volume / X_volume.mean()\n",
    "    X_volume = X_volume / 5.678573626611138\n",
    "    \n",
    "    x_shift = int(torch.randint(low=-2,high=3,size=(1,1)).numpy()[0,0])\n",
    "    y_shift = int(torch.randint(low=-2,high=3,size=(1,1)).numpy()[0,0])\n",
    "    z_shift = int(torch.randint(low=-2,high=3,size=(1,1)).numpy()[0,0])\n",
    "    \n",
    "    X_volume = np.roll(X_volume,x_shift,axis=0)\n",
    "    X_volume = np.roll(X_volume,y_shift,axis=1)\n",
    "    X_volume = np.roll(X_volume,z_shift,axis=2)\n",
    "    \n",
    "print(\"--- %s seconds ---\" % (time.time() - start_time))\n",
    "print(\"--- %s sec/ite ---\" % ((time.time() - start_time)/iterations))"
   ]
  },
  {
   "cell_type": "code",
   "execution_count": 170,
   "metadata": {},
   "outputs": [
    {
     "data": {
      "text/plain": [
       "(160, 192, 160)"
      ]
     },
     "execution_count": 170,
     "metadata": {},
     "output_type": "execute_result"
    }
   ],
   "source": [
    "X_volume = np.array(nib.load(pathT1).dataobj)\n",
    "X_volume = X_volume[10:170, 12:204, 0:160]\n"
   ]
  },
  {
   "cell_type": "code",
   "execution_count": 219,
   "metadata": {},
   "outputs": [],
   "source": [
    "X_volume = np.array(nib.load(pathT1).dataobj)\n",
    "X_volume = X_volume[10:170, 12:204, 0:160]\n",
    "\n",
    "# X_volume = np.pad(X_volume, 2)\n",
    "\n",
    "x_shift, y_shift, z_shift = -2,-2,-2\n",
    "\n",
    "X_volume = np.roll(X_volume,x_shift,axis=0)\n",
    "X_volume = np.roll(X_volume,y_shift,axis=1)\n",
    "X_volume = np.roll(X_volume,z_shift,axis=2)\n",
    "\n",
    "# X_volume = X_volume[2:-2, 2:-2, 2:-2]\n",
    "\n",
    "Image(X_volume).save('T1_shift_-2-2-2_1mm_cropped_5.nii.gz')"
   ]
  },
  {
   "cell_type": "code",
   "execution_count": 229,
   "metadata": {},
   "outputs": [],
   "source": [
    "X_volume = np.array(nib.load(pathT1).dataobj)\n",
    "X_volume = X_volume[10:170, 12:204, 0:160]\n",
    "\n",
    "# X_volume = np.pad(X_volume, 2)\n",
    "\n",
    "x_shift, y_shift, z_shift = -2,-2,-2\n",
    "\n",
    "X_volume = np.roll(X_volume,x_shift,axis=0)\n",
    "X_volume = np.roll(X_volume,y_shift,axis=1)\n",
    "X_volume = np.roll(X_volume,z_shift,axis=2)\n",
    "if z_shift < 0:\n",
    "    X_volume[:,:,z_shift:] = 0\n",
    "\n",
    "# X_volume = X_volume[2:-2, 2:-2, 2:-2]\n",
    "\n",
    "Image(X_volume).save('T1_shift_-2-2-2_1mm_cropped_6.nii.gz')"
   ]
  },
  {
   "cell_type": "code",
   "execution_count": 230,
   "metadata": {},
   "outputs": [],
   "source": [
    "X_volume = np.array(nib.load(pathT1).dataobj)\n",
    "X_volume = X_volume[10:170, 12:204, 0:160]\n",
    "\n",
    "# X_volume = np.pad(X_volume, 2)\n",
    "\n",
    "x_shift, y_shift, z_shift = 2,2,2\n",
    "\n",
    "X_volume = np.roll(X_volume,x_shift,axis=0)\n",
    "X_volume = np.roll(X_volume,y_shift,axis=1)\n",
    "X_volume = np.roll(X_volume,z_shift,axis=2)\n",
    "if z_shift < 0:\n",
    "    X_volume[:,:,z_shift:] = 0\n",
    "\n",
    "# X_volume = X_volume[2:-2, 2:-2, 2:-2]\n",
    "\n",
    "Image(X_volume).save('T1_shift_222_1mm_cropped_6.nii.gz')"
   ]
  },
  {
   "cell_type": "code",
   "execution_count": 200,
   "metadata": {},
   "outputs": [],
   "source": [
    "X_volume2 = np.array(nib.load(pathT1).dataobj)\n",
    "X_volume2 = X_volume2[10:170, 12:204, 0:160]\n",
    "X_volume2.shape\n",
    "Image(X_volume2).save('T1_shift_-2-2-2_1mm_cropped_5.nii.gz')"
   ]
  },
  {
   "cell_type": "code",
   "execution_count": 201,
   "metadata": {},
   "outputs": [
    {
     "data": {
      "text/plain": [
       "True"
      ]
     },
     "execution_count": 201,
     "metadata": {},
     "output_type": "execute_result"
    }
   ],
   "source": [
    "(X_volume2[:,:,-2]==X_volume2[:,:,158]).all()"
   ]
  },
  {
   "cell_type": "code",
   "execution_count": 209,
   "metadata": {},
   "outputs": [
    {
     "data": {
      "text/plain": [
       "0.0"
      ]
     },
     "execution_count": 209,
     "metadata": {},
     "output_type": "execute_result"
    }
   ],
   "source": [
    "X_volume2[:,:,-2].max()"
   ]
  },
  {
   "cell_type": "code",
   "execution_count": 217,
   "metadata": {},
   "outputs": [
    {
     "data": {
      "text/plain": [
       "1513.0"
      ]
     },
     "execution_count": 217,
     "metadata": {},
     "output_type": "execute_result"
    }
   ],
   "source": [
    "X_volume[:,:,3].max()"
   ]
  },
  {
   "cell_type": "code",
   "execution_count": 208,
   "metadata": {},
   "outputs": [],
   "source": [
    "X_volume3 = np.copy(X_volume)\n",
    "X_volume3[:,:,-2:]=0"
   ]
  },
  {
   "cell_type": "code",
   "execution_count": 216,
   "metadata": {},
   "outputs": [
    {
     "data": {
      "text/plain": [
       "1513.0"
      ]
     },
     "execution_count": 216,
     "metadata": {},
     "output_type": "execute_result"
    }
   ],
   "source": [
    "X_volume3[:,:,3].max()"
   ]
  },
  {
   "cell_type": "code",
   "execution_count": null,
   "metadata": {},
   "outputs": [],
   "source": []
  },
  {
   "cell_type": "code",
   "execution_count": null,
   "metadata": {},
   "outputs": [],
   "source": []
  },
  {
   "cell_type": "code",
   "execution_count": 231,
   "metadata": {},
   "outputs": [
    {
     "name": "stdout",
     "output_type": "stream",
     "text": [
      "--- 25.77492594718933 seconds ---\n",
      "--- 0.12887534499168396 sec/ite ---\n"
     ]
    }
   ],
   "source": [
    "start_time = time.time()\n",
    "iterations = 200\n",
    "for _ in range(iterations):\n",
    "    X_volume = np.array(nib.load(pathT1).dataobj)\n",
    "    X_volume = X_volume[10:170, 12:204, 0:160]\n",
    "    X_volume = X_volume / X_volume.mean()\n",
    "    X_volume = X_volume / 5.678573626611138\n",
    "    \n",
    "    x_shift, y_shift, z_shift = np.random.randint(-2,3,3)\n",
    "    X_volume = np.pad(X_volume, 2)\n",
    "    X_volume = np.roll(X_volume,x_shift,axis=0)\n",
    "    X_volume = np.roll(X_volume,y_shift,axis=1)\n",
    "    X_volume = np.roll(X_volume,z_shift,axis=2)\n",
    "    X_volume = X_volume[2:-2, 2:-2, 2:-2]\n",
    "    \n",
    "print(\"--- %s seconds ---\" % (time.time() - start_time))\n",
    "print(\"--- %s sec/ite ---\" % ((time.time() - start_time)/iterations))"
   ]
  },
  {
   "cell_type": "code",
   "execution_count": 232,
   "metadata": {},
   "outputs": [
    {
     "name": "stdout",
     "output_type": "stream",
     "text": [
      "--- 23.453001022338867 seconds ---\n",
      "--- 0.11726601123809814 sec/ite ---\n"
     ]
    }
   ],
   "source": [
    "#############\n",
    "## WINNER! ##\n",
    "#############\n",
    "\n",
    "start_time = time.time()\n",
    "iterations = 200\n",
    "for _ in range(iterations):\n",
    "    X_volume = np.array(nib.load(pathT1).dataobj)\n",
    "    X_volume = X_volume[10:170, 12:204, 0:160]\n",
    "    X_volume = X_volume / X_volume.mean()\n",
    "    X_volume = X_volume / 5.678573626611138\n",
    "    \n",
    "    x_shift, y_shift, z_shift = np.random.randint(-2,3,3)\n",
    "    X_volume = np.roll(X_volume,x_shift,axis=0)\n",
    "    X_volume = np.roll(X_volume,y_shift,axis=1)\n",
    "    X_volume = np.roll(X_volume,z_shift,axis=2)\n",
    "    if z_shift < 0:\n",
    "        X_volume[:,:,z_shift:] = 0\n",
    "    \n",
    "print(\"--- %s seconds ---\" % (time.time() - start_time))\n",
    "print(\"--- %s sec/ite ---\" % ((time.time() - start_time)/iterations))"
   ]
  },
  {
   "cell_type": "code",
   "execution_count": null,
   "metadata": {},
   "outputs": [],
   "source": [
    "F = Image(pathF).data[:,:,:,0]\n",
    "F, xform = resampleToPixdims(Image(F, header=Image(pathF).header), (1,1,1))\n",
    "F = roi(Image(F, header=Image(pathF).header, xform=xform),((10,170),(12,204),(0,160))).data"
   ]
  },
  {
   "cell_type": "code",
   "execution_count": null,
   "metadata": {},
   "outputs": [],
   "source": []
  },
  {
   "cell_type": "code",
   "execution_count": null,
   "metadata": {},
   "outputs": [],
   "source": []
  },
  {
   "cell_type": "code",
   "execution_count": 233,
   "metadata": {},
   "outputs": [
    {
     "name": "stdout",
     "output_type": "stream",
     "text": [
      "--- 344.415146112442 seconds ---\n",
      "--- 1.7220766603946687 sec/ite ---\n"
     ]
    }
   ],
   "source": [
    "start_time = time.time()\n",
    "iterations = 200\n",
    "for _ in range(iterations):\n",
    "    F = Image(pathF).data[:,:,:,0]\n",
    "    F, xform = resampleToPixdims(Image(F, header=Image(pathF).header), (1,1,1))\n",
    "    F = roi(Image(F, header=Image(pathF).header, xform=xform),((10,170),(12,204),(0,160))).data\n",
    "    F = F / 5.678573626611138\n",
    "    \n",
    "    x_shift, y_shift, z_shift = np.random.randint(-2,3,3)\n",
    "    F = np.roll(F,x_shift,axis=0)\n",
    "    F = np.roll(F,y_shift,axis=1)\n",
    "    F = np.roll(F,z_shift,axis=2)\n",
    "    if z_shift < 0:\n",
    "        X_volume[:,:,z_shift:] = 0\n",
    "    \n",
    "print(\"--- %s seconds ---\" % (time.time() - start_time))\n",
    "print(\"--- %s sec/ite ---\" % ((time.time() - start_time)/iterations))"
   ]
  },
  {
   "cell_type": "code",
   "execution_count": 237,
   "metadata": {},
   "outputs": [],
   "source": [
    "F = Image(pathF).data[:,:,:,0]\n",
    "F, xform = resampleToPixdims(Image(F, header=Image(pathF).header), (1,1,1))\n",
    "# F = roi(Image(F, header=Image(pathF).header, xform=xform),((10,170),(12,204),(0,160))).data"
   ]
  },
  {
   "cell_type": "code",
   "execution_count": 238,
   "metadata": {},
   "outputs": [],
   "source": [
    "Image(F).save('F_orig.nii.gz')"
   ]
  },
  {
   "cell_type": "code",
   "execution_count": 239,
   "metadata": {},
   "outputs": [
    {
     "name": "stdout",
     "output_type": "stream",
     "text": [
      "--- 247.40397906303406 seconds ---\n",
      "--- 1.2370244252681732 sec/ite ---\n"
     ]
    }
   ],
   "source": [
    "start_time = time.time()\n",
    "iterations = 200\n",
    "for _ in range(iterations):\n",
    "    F = Image(pathF).data[:,:,:,0]\n",
    "    F, xform = resampleToPixdims(Image(F, header=Image(pathF).header), (1,1,1))\n",
    "#     F = roi(Image(F, header=Image(pathF).header, xform=xform),((10,170),(12,204),(0,160))).data\n",
    "#     F = F / 5.678573626611138\n",
    "    \n",
    "#     x_shift, y_shift, z_shift = np.random.randint(-2,3,3)\n",
    "#     F = np.roll(F,x_shift,axis=0)\n",
    "#     F = np.roll(F,y_shift,axis=1)\n",
    "#     F = np.roll(F,z_shift,axis=2)\n",
    "#     if z_shift < 0:\n",
    "#         X_volume[:,:,z_shift:] = 0\n",
    "    \n",
    "print(\"--- %s seconds ---\" % (time.time() - start_time))\n",
    "print(\"--- %s sec/ite ---\" % ((time.time() - start_time)/iterations))"
   ]
  },
  {
   "cell_type": "code",
   "execution_count": 247,
   "metadata": {},
   "outputs": [],
   "source": [
    "X_volume = np.array(nib.load(pathT1).dataobj)\n",
    "# X_volume = X_volume[10:170, 12:204, 0:160]"
   ]
  },
  {
   "cell_type": "code",
   "execution_count": 248,
   "metadata": {},
   "outputs": [
    {
     "data": {
      "text/plain": [
       "(182, 218, 182)"
      ]
     },
     "execution_count": 248,
     "metadata": {},
     "output_type": "execute_result"
    }
   ],
   "source": [
    "X_volume.shape"
   ]
  },
  {
   "cell_type": "code",
   "execution_count": 249,
   "metadata": {},
   "outputs": [],
   "source": [
    "scaling_values = [10, 170, 12, 204, 0, 160]"
   ]
  },
  {
   "cell_type": "code",
   "execution_count": 250,
   "metadata": {},
   "outputs": [],
   "source": [
    "X_volume = X_volume[scaling_values[0]:scaling_values[1], \n",
    "                    scaling_values[2]:scaling_values[3], \n",
    "                    scaling_values[4]:scaling_values[5]]"
   ]
  },
  {
   "cell_type": "code",
   "execution_count": 251,
   "metadata": {},
   "outputs": [
    {
     "data": {
      "text/plain": [
       "(160, 192, 160)"
      ]
     },
     "execution_count": 251,
     "metadata": {},
     "output_type": "execute_result"
    }
   ],
   "source": [
    "X_volume.shape"
   ]
  },
  {
   "cell_type": "code",
   "execution_count": 252,
   "metadata": {},
   "outputs": [
    {
     "data": {
      "text/plain": [
       "(160, 192, 160)"
      ]
     },
     "execution_count": 252,
     "metadata": {},
     "output_type": "execute_result"
    }
   ],
   "source": [
    "X_volume2 = np.array(nib.load(pathT1).dataobj)\n",
    "X_volume2 = X_volume2[10:170, 12:204, 0:160]\n",
    "X_volume2.shape"
   ]
  },
  {
   "cell_type": "code",
   "execution_count": 253,
   "metadata": {},
   "outputs": [
    {
     "data": {
      "text/plain": [
       "True"
      ]
     },
     "execution_count": 253,
     "metadata": {},
     "output_type": "execute_result"
    }
   ],
   "source": [
    "(X_volume==X_volume2).all()"
   ]
  },
  {
   "cell_type": "code",
   "execution_count": 255,
   "metadata": {},
   "outputs": [
    {
     "data": {
      "text/plain": [
       "(182, 218, 182)"
      ]
     },
     "execution_count": 255,
     "metadata": {},
     "output_type": "execute_result"
    }
   ],
   "source": [
    "X_volume = np.array(nib.load(pathT1).dataobj)\n",
    "X_volume.shape"
   ]
  },
  {
   "cell_type": "code",
   "execution_count": 257,
   "metadata": {},
   "outputs": [
    {
     "data": {
      "text/plain": [
       "(182, 218, 182, 1)"
      ]
     },
     "execution_count": 257,
     "metadata": {},
     "output_type": "execute_result"
    }
   ],
   "source": [
    "X_volume = np.array(nib.load(pathT1).dataobj)[:,:,:,None]\n",
    "X_volume.shape"
   ]
  },
  {
   "cell_type": "code",
   "execution_count": 259,
   "metadata": {},
   "outputs": [
    {
     "name": "stdout",
     "output_type": "stream",
     "text": [
      "N\n"
     ]
    }
   ],
   "source": [
    "a = 2\n",
    "if a != None:\n",
    "    print('N')"
   ]
  },
  {
   "cell_type": "code",
   "execution_count": null,
   "metadata": {},
   "outputs": [],
   "source": []
  }
 ],
 "metadata": {
  "kernelspec": {
   "display_name": "Python 3",
   "language": "python",
   "name": "python3"
  },
  "language_info": {
   "codemirror_mode": {
    "name": "ipython",
    "version": 3
   },
   "file_extension": ".py",
   "mimetype": "text/x-python",
   "name": "python",
   "nbconvert_exporter": "python",
   "pygments_lexer": "ipython3",
   "version": "3.8.2"
  }
 },
 "nbformat": 4,
 "nbformat_minor": 4
}
