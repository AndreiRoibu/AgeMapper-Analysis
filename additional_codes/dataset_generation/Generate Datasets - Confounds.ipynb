{
 "cells": [
  {
   "cell_type": "code",
   "execution_count": 1,
   "metadata": {},
   "outputs": [],
   "source": [
    "import numpy as np\n",
    "import pandas as pd\n",
    "import scipy\n",
    "from scipy.io import loadmat\n",
    "import pickle\n",
    "import seaborn as sns\n",
    "sns.set()\n",
    "import matplotlib.pyplot as plt\n",
    "from sklearn.model_selection import train_test_split\n",
    "from scipy.stats import norm\n",
    "import h5py\n",
    "import os\n",
    "import csv\n",
    "from scipy.linalg import svd"
   ]
  },
  {
   "cell_type": "code",
   "execution_count": 2,
   "metadata": {},
   "outputs": [],
   "source": [
    "# biobank_file = '../../Analysis/conf12.mat'\n",
    "biobank_file = '../../../../workspace12eBETA_Andrei.mat'\n",
    "mat = h5py.File(biobank_file, 'r')"
   ]
  },
  {
   "cell_type": "code",
   "execution_count": 3,
   "metadata": {},
   "outputs": [
    {
     "data": {
      "text/plain": [
       "<KeysViewHDF5 ['#refs#', 'I', 'IDP_categories', 'IDP_category_names', 'IDP_names', 'IDP_reordering', 'IDPs', 'IDPs1', 'IDPs1_i', 'IDPs1_i_deconf', 'IDPs1_i_deconfnoage', 'IDPs2', 'IDPs2_i', 'IDPs2_i_deconf', 'IDPs2_i_deconfnoage', 'IDPs_i', 'IDPs_i_deconf', 'IDPs_i_deconfnoage', 'QC_IDP_names', 'QC_IDPs', 'QC_IDPs1', 'QC_IDPs2', 'WSNAME', 'age', 'age0', 'age1', 'age2', 'ans', 'birth_date', 'conf', 'conf1', 'conf12', 'conf2', 'conf_FST2', 'conf_NEWEDDY', 'conf_SCALING_SWI', 'conf_SCALING_T1', 'conf_SCALING_T2', 'conf_SCALING_dMRI', 'conf_SCALING_rfMRI', 'conf_SCALING_tfMRI', 'conf_TE_rfMRI', 'conf_TE_tfMRI', 'conf_TablePos_COG_Table', 'conf_TablePos_COG_X', 'conf_TablePos_COG_Y', 'conf_TablePos_COG_Z', 'conf_YTRANS', 'conf_groups_names', 'conf_names', 'grot', 'head_size_scaling', 'ind_conf_groups', 'ind_site', 'nIDPsDIR', 'num_conf_groups', 'omp_threads', 'omp_threads_str', 'repeated_IDs', 'rfMRI_ICA_feature_weights', 'scan_date', 'scan_date1', 'scan_date2', 'scan_number', 'scan_pairs', 'scan_time', 'sex', 'sex12', 'site', 'subject_IDs', 'subject_IDs_orig', 'subject_IDs_unique', 'vars', 'varsHeader', 'varsVARS', 'vars_i', 'vars_i_deconf', 'vars_i_deconfnoage', 'varskeep', 'varskeepNEW', 'varskeepOLD', 'varskeepVT', 'visit_date', 'vt', 'vt_not_use', 'vt_use']>"
      ]
     },
     "execution_count": 3,
     "metadata": {},
     "output_type": "execute_result"
    }
   ],
   "source": [
    "mat.keys()"
   ]
  },
  {
   "cell_type": "code",
   "execution_count": 4,
   "metadata": {},
   "outputs": [
    {
     "data": {
      "text/plain": [
       "(42897, 613)"
      ]
     },
     "execution_count": 4,
     "metadata": {},
     "output_type": "execute_result"
    }
   ],
   "source": [
    "np.transpose(mat['conf12'],(1,0)).shape"
   ]
  },
  {
   "cell_type": "code",
   "execution_count": 5,
   "metadata": {},
   "outputs": [],
   "source": [
    "subject_IDs_unique = np.transpose(mat['subject_IDs_unique'], (1,0)).flatten().astype(int)\n",
    "conf12 = np.transpose(mat['conf12'],(1,0))"
   ]
  },
  {
   "cell_type": "code",
   "execution_count": 6,
   "metadata": {
    "scrolled": true
   },
   "outputs": [
    {
     "name": "stdout",
     "output_type": "stream",
     "text": [
      "#refs# <HDF5 group \"/#refs#\" (39725 members)>\n",
      "I <HDF5 dataset \"I\": shape (1, 1), type \"<f8\">\n",
      "IDP_categories <HDF5 dataset \"IDP_categories\": shape (1, 3921), type \"<f8\">\n",
      "IDP_category_names <HDF5 dataset \"IDP_category_names\": shape (16, 1), type \"|O\">\n",
      "IDP_names <HDF5 dataset \"IDP_names\": shape (1, 3921), type \"|O\">\n",
      "IDP_reordering <HDF5 dataset \"IDP_reordering\": shape (1, 3921), type \"<f8\">\n",
      "IDPs <HDF5 dataset \"IDPs\": shape (3921, 46743), type \"<f8\">\n",
      "IDPs1 <HDF5 dataset \"IDPs1\": shape (3921, 42897), type \"<f8\">\n",
      "IDPs1_i <HDF5 dataset \"IDPs1_i\": shape (3921, 42897), type \"<f8\">\n",
      "IDPs1_i_deconf <HDF5 dataset \"IDPs1_i_deconf\": shape (3921, 42897), type \"<f8\">\n",
      "IDPs1_i_deconfnoage <HDF5 dataset \"IDPs1_i_deconfnoage\": shape (3921, 42897), type \"<f8\">\n",
      "IDPs2 <HDF5 dataset \"IDPs2\": shape (3921, 42897), type \"<f8\">\n",
      "IDPs2_i <HDF5 dataset \"IDPs2_i\": shape (3921, 42897), type \"<f8\">\n",
      "IDPs2_i_deconf <HDF5 dataset \"IDPs2_i_deconf\": shape (3921, 42897), type \"<f8\">\n",
      "IDPs2_i_deconfnoage <HDF5 dataset \"IDPs2_i_deconfnoage\": shape (3921, 42897), type \"<f8\">\n",
      "IDPs_i <HDF5 dataset \"IDPs_i\": shape (3921, 46743), type \"<f8\">\n",
      "IDPs_i_deconf <HDF5 dataset \"IDPs_i_deconf\": shape (3921, 46743), type \"<f8\">\n",
      "IDPs_i_deconfnoage <HDF5 dataset \"IDPs_i_deconfnoage\": shape (3921, 46743), type \"<f8\">\n",
      "QC_IDP_names <HDF5 dataset \"QC_IDP_names\": shape (1, 16), type \"|O\">\n",
      "QC_IDPs <HDF5 dataset \"QC_IDPs\": shape (16, 46743), type \"<f8\">\n",
      "QC_IDPs1 <HDF5 dataset \"QC_IDPs1\": shape (16, 42897), type \"<f8\">\n",
      "QC_IDPs2 <HDF5 dataset \"QC_IDPs2\": shape (16, 42897), type \"<f8\">\n",
      "WSNAME <HDF5 dataset \"WSNAME\": shape (7, 1), type \"<u2\">\n",
      "age <HDF5 dataset \"age\": shape (1, 46743), type \"<f8\">\n",
      "age0 <HDF5 dataset \"age0\": shape (1, 42897), type \"<f8\">\n",
      "age1 <HDF5 dataset \"age1\": shape (1, 42897), type \"<f8\">\n",
      "age2 <HDF5 dataset \"age2\": shape (1, 42897), type \"<f8\">\n",
      "ans <HDF5 dataset \"ans\": shape (1, 26), type \"|O\">\n",
      "birth_date <HDF5 dataset \"birth_date\": shape (1, 42897), type \"<f8\">\n",
      "conf <HDF5 dataset \"conf\": shape (613, 46743), type \"<f8\">\n",
      "conf1 <HDF5 dataset \"conf1\": shape (613, 42897), type \"<f8\">\n",
      "conf12 <HDF5 dataset \"conf12\": shape (613, 42897), type \"<f8\">\n",
      "conf2 <HDF5 dataset \"conf2\": shape (613, 42897), type \"<f8\">\n",
      "conf_FST2 <HDF5 dataset \"conf_FST2\": shape (1, 46743), type \"<f8\">\n",
      "conf_NEWEDDY <HDF5 dataset \"conf_NEWEDDY\": shape (1, 46743), type \"<f8\">\n",
      "conf_SCALING_SWI <HDF5 dataset \"conf_SCALING_SWI\": shape (1, 46743), type \"<f8\">\n",
      "conf_SCALING_T1 <HDF5 dataset \"conf_SCALING_T1\": shape (1, 46743), type \"<f8\">\n",
      "conf_SCALING_T2 <HDF5 dataset \"conf_SCALING_T2\": shape (1, 46743), type \"<f8\">\n",
      "conf_SCALING_dMRI <HDF5 dataset \"conf_SCALING_dMRI\": shape (1, 46743), type \"<f8\">\n",
      "conf_SCALING_rfMRI <HDF5 dataset \"conf_SCALING_rfMRI\": shape (1, 46743), type \"<f8\">\n",
      "conf_SCALING_tfMRI <HDF5 dataset \"conf_SCALING_tfMRI\": shape (1, 46743), type \"<f8\">\n",
      "conf_TE_rfMRI <HDF5 dataset \"conf_TE_rfMRI\": shape (1, 46743), type \"<f8\">\n",
      "conf_TE_tfMRI <HDF5 dataset \"conf_TE_tfMRI\": shape (1, 46743), type \"<f8\">\n",
      "conf_TablePos_COG_Table <HDF5 dataset \"conf_TablePos_COG_Table\": shape (1, 46743), type \"<f8\">\n",
      "conf_TablePos_COG_X <HDF5 dataset \"conf_TablePos_COG_X\": shape (1, 46743), type \"<f8\">\n",
      "conf_TablePos_COG_Y <HDF5 dataset \"conf_TablePos_COG_Y\": shape (1, 46743), type \"<f8\">\n",
      "conf_TablePos_COG_Z <HDF5 dataset \"conf_TablePos_COG_Z\": shape (1, 46743), type \"<f8\">\n",
      "conf_YTRANS <HDF5 dataset \"conf_YTRANS\": shape (1, 46743), type \"<f8\">\n",
      "conf_groups_names <HDF5 dataset \"conf_groups_names\": shape (1, 1), type \"|O\">\n",
      "conf_names <HDF5 dataset \"conf_names\": shape (1, 613), type \"|O\">\n",
      "grot <HDF5 dataset \"grot\": shape (26, 1), type \"<f8\">\n",
      "head_size_scaling <HDF5 dataset \"head_size_scaling\": shape (1, 46743), type \"<f8\">\n",
      "ind_conf_groups <HDF5 dataset \"ind_conf_groups\": shape (25, 1), type \"|O\">\n",
      "ind_site <HDF5 dataset \"ind_site\": shape (1, 3), type \"|O\">\n",
      "nIDPsDIR <HDF5 dataset \"nIDPsDIR\": shape (33, 1), type \"<u2\">\n",
      "num_conf_groups <HDF5 dataset \"num_conf_groups\": shape (1, 1), type \"<f8\">\n",
      "omp_threads <HDF5 dataset \"omp_threads\": shape (1, 1), type \"<f8\">\n",
      "omp_threads_str <HDF5 dataset \"omp_threads_str\": shape (1, 1), type \"<u2\">\n",
      "repeated_IDs <HDF5 dataset \"repeated_IDs\": shape (1, 3988), type \"<f8\">\n",
      "rfMRI_ICA_feature_weights <HDF5 dataset \"rfMRI_ICA_feature_weights\": shape (1695, 6), type \"<f8\">\n",
      "scan_date <HDF5 dataset \"scan_date\": shape (1, 46743), type \"<f8\">\n",
      "scan_date1 <HDF5 dataset \"scan_date1\": shape (1, 42897), type \"<f8\">\n",
      "scan_date2 <HDF5 dataset \"scan_date2\": shape (1, 42897), type \"<f8\">\n",
      "scan_number <HDF5 dataset \"scan_number\": shape (1, 46743), type \"<f8\">\n",
      "scan_pairs <HDF5 dataset \"scan_pairs\": shape (2, 3846), type \"<f8\">\n",
      "scan_time <HDF5 dataset \"scan_time\": shape (1, 46743), type \"<f8\">\n",
      "sex <HDF5 dataset \"sex\": shape (1, 46743), type \"<f8\">\n",
      "sex12 <HDF5 dataset \"sex12\": shape (1, 42897), type \"<f8\">\n",
      "site <HDF5 dataset \"site\": shape (1, 46743), type \"<f8\">\n",
      "subject_IDs <HDF5 dataset \"subject_IDs\": shape (1, 46743), type \"<f8\">\n",
      "subject_IDs_orig <HDF5 dataset \"subject_IDs_orig\": shape (1, 46743), type \"<f8\">\n",
      "subject_IDs_unique <HDF5 dataset \"subject_IDs_unique\": shape (1, 42897), type \"<f8\">\n",
      "vars <HDF5 dataset \"vars\": shape (17527, 42897), type \"<f8\">\n",
      "varsHeader <HDF5 dataset \"varsHeader\": shape (17527, 1), type \"|O\">\n",
      "varsVARS <HDF5 dataset \"varsVARS\": shape (17527, 1), type \"|O\">\n",
      "vars_i <HDF5 dataset \"vars_i\": shape (17527, 42897), type \"<f8\">\n",
      "vars_i_deconf <HDF5 dataset \"vars_i_deconf\": shape (17527, 42897), type \"<f8\">\n",
      "vars_i_deconfnoage <HDF5 dataset \"vars_i_deconfnoage\": shape (17527, 42897), type \"<f8\">\n",
      "varskeep <HDF5 dataset \"varskeep\": shape (17527, 1), type \"<f8\">\n",
      "varskeepNEW <HDF5 dataset \"varskeepNEW\": shape (17527, 1), type \"<f8\">\n",
      "varskeepOLD <HDF5 dataset \"varskeepOLD\": shape (17961, 1), type \"<f8\">\n",
      "varskeepVT <HDF5 dataset \"varskeepVT\": shape (17527, 1), type \"<f8\">\n",
      "visit_date <HDF5 dataset \"visit_date\": shape (4, 42897), type \"<f8\">\n",
      "vt <HDF5 dataset \"vt\": shape (99, 1), type \"|O\">\n",
      "vt_not_use <HDF5 dataset \"vt_not_use\": shape (6, 1), type \"<f8\">\n",
      "vt_use <HDF5 dataset \"vt_use\": shape (18, 1), type \"<f8\">\n"
     ]
    }
   ],
   "source": [
    "for key in list(mat.keys()):\n",
    "    print(key, mat[key])"
   ]
  },
  {
   "cell_type": "markdown",
   "metadata": {},
   "source": [
    "# 1. Male & Female Test Datasets for IDPs and nIDPs"
   ]
  },
  {
   "cell_type": "code",
   "execution_count": 7,
   "metadata": {},
   "outputs": [],
   "source": [
    "male_test = np.loadtxt('male_test.txt').astype(int)\n",
    "female_test = np.loadtxt('female_test.txt').astype(int)\n",
    "\n",
    "male_validation = np.loadtxt('male_validation.txt').astype(int)\n",
    "female_validation = np.loadtxt('female_validation.txt').astype(int)\n",
    "\n",
    "female_testA = np.loadtxt('female_testA.txt').astype(int)\n",
    "female_testB = np.loadtxt('female_testB.txt').astype(int)\n",
    "\n",
    "male_testA = np.loadtxt('male_testA.txt').astype(int)\n",
    "male_testB = np.loadtxt('male_testB.txt').astype(int)"
   ]
  },
  {
   "cell_type": "code",
   "execution_count": 8,
   "metadata": {},
   "outputs": [
    {
     "name": "stdout",
     "output_type": "stream",
     "text": [
      "4364 4364\n"
     ]
    }
   ],
   "source": [
    "counter = 0\n",
    "for subject in subject_IDs_unique:\n",
    "    subject = int('2' + str(subject))\n",
    "    if subject in male_test:\n",
    "        counter += 1\n",
    "        \n",
    "print(len(male_test), counter)"
   ]
  },
  {
   "cell_type": "code",
   "execution_count": 9,
   "metadata": {},
   "outputs": [],
   "source": [
    "counter = 0\n",
    "for subject in male_test:\n",
    "    subj = subject - 20000000\n",
    "    if subj not in subject_IDs_unique:\n",
    "        print('Exlude the following subject:', subject)"
   ]
  },
  {
   "cell_type": "code",
   "execution_count": 10,
   "metadata": {},
   "outputs": [
    {
     "name": "stdout",
     "output_type": "stream",
     "text": [
      "1091 1091\n"
     ]
    }
   ],
   "source": [
    "counter = 0\n",
    "for subject in subject_IDs_unique:\n",
    "    subject = int('2' + str(subject))\n",
    "    if subject in male_validation:\n",
    "        counter += 1\n",
    "        \n",
    "print(len(male_validation), counter)"
   ]
  },
  {
   "cell_type": "code",
   "execution_count": 11,
   "metadata": {},
   "outputs": [
    {
     "name": "stdout",
     "output_type": "stream",
     "text": [
      "5020 5020\n"
     ]
    }
   ],
   "source": [
    "counter = 0\n",
    "for subject in subject_IDs_unique:\n",
    "    subject = int('2' + str(subject))\n",
    "    if subject in female_test:\n",
    "        counter += 1\n",
    "        \n",
    "print(len(female_test), counter)"
   ]
  },
  {
   "cell_type": "code",
   "execution_count": 12,
   "metadata": {},
   "outputs": [
    {
     "name": "stdout",
     "output_type": "stream",
     "text": [
      "1255 1255\n"
     ]
    }
   ],
   "source": [
    "counter = 0\n",
    "for subject in subject_IDs_unique:\n",
    "    subject = int('2' + str(subject))\n",
    "    if subject in female_validation:\n",
    "        counter += 1\n",
    "        \n",
    "print(len(female_validation), counter)"
   ]
  },
  {
   "cell_type": "code",
   "execution_count": 13,
   "metadata": {},
   "outputs": [],
   "source": [
    "subjects_male = []\n",
    "conf12_male = []\n",
    "\n",
    "for subject in male_test:\n",
    "    subj = subject - 20000000\n",
    "    if subj in subject_IDs_unique:\n",
    "        idx = np.where(subject_IDs_unique == subj)\n",
    "        subjects_male.append(subject)\n",
    "        conf12_male.append(conf12[idx].flatten())\n",
    "        \n",
    "subjects_male = np.array(subjects_male)\n",
    "conf12_male = np.array(conf12_male)\n",
    "\n",
    "conf12_male_processed = conf12_male - conf12_male.mean(axis=0)\n",
    "conf12_male_processed_rank = np.linalg.matrix_rank(conf12_male_processed)\n",
    "if np.sum(np.isnan(conf12_male_processed)) == 0:\n",
    "    conf12_male_processed,_,_ = svd(conf12_male_processed)\n",
    "    conf12_male_processed = conf12_male_processed[:, :conf12_male_processed_rank]\n",
    "\n",
    "\n",
    "if os.path.exists('male_test_conf12.h5'):\n",
    "    os.remove('male_test_conf12.h5')\n",
    "h5f = h5py.File('male_test_conf12.h5', 'w')\n",
    "h5f.create_dataset('subjects', data=subjects_male)\n",
    "h5f.create_dataset('conf12', data=conf12_male)\n",
    "h5f.create_dataset('conf12proc', data=conf12_male_processed)\n",
    "h5f.close()"
   ]
  },
  {
   "cell_type": "code",
   "execution_count": 14,
   "metadata": {},
   "outputs": [],
   "source": [
    "subjects_female = []\n",
    "conf12_female = []\n",
    "\n",
    "for subject in female_testA:\n",
    "    subj = subject - 20000000\n",
    "    if subj in subject_IDs_unique:\n",
    "        idx = np.where(subject_IDs_unique == subj)\n",
    "        subjects_female.append(subject)\n",
    "        conf12_female.append(conf12[idx].flatten())\n",
    "        \n",
    "subjects_female = np.array(subjects_female)\n",
    "conf12_female = np.array(conf12_female)\n",
    "\n",
    "conf12_female_processed = conf12_female - conf12_female.mean(axis=0)\n",
    "conf12_female_processed_rank = np.linalg.matrix_rank(conf12_female_processed)\n",
    "if np.sum(np.isnan(conf12_female_processed)) == 0:\n",
    "    conf12_female_processed,_,_ = svd(conf12_female_processed)\n",
    "    conf12_female_processed = conf12_female_processed[:, :conf12_female_processed_rank]\n",
    "\n",
    "\n",
    "if os.path.exists('female_testA_conf12.h5'):\n",
    "    os.remove('female_testA_conf12.h5')\n",
    "h5f = h5py.File('female_testA_conf12.h5', 'w')\n",
    "h5f.create_dataset('subjects', data=subjects_female)\n",
    "h5f.create_dataset('conf12', data=conf12_female)\n",
    "h5f.create_dataset('conf12proc', data=conf12_female_processed)\n",
    "h5f.close()"
   ]
  },
  {
   "cell_type": "code",
   "execution_count": 15,
   "metadata": {},
   "outputs": [],
   "source": [
    "subjects_male = []\n",
    "conf12_male = []\n",
    "\n",
    "for subject in male_testA:\n",
    "    subj = subject - 20000000\n",
    "    if subj in subject_IDs_unique:\n",
    "        idx = np.where(subject_IDs_unique == subj)\n",
    "        subjects_male.append(subject)\n",
    "        conf12_male.append(conf12[idx].flatten())\n",
    "        \n",
    "subjects_male = np.array(subjects_male)\n",
    "conf12_male = np.array(conf12_male)\n",
    "\n",
    "conf12_male_processed = conf12_male - conf12_male.mean(axis=0)\n",
    "conf12_male_processed_rank = np.linalg.matrix_rank(conf12_male_processed)\n",
    "if np.sum(np.isnan(conf12_male_processed)) == 0:\n",
    "    conf12_male_processed,_,_ = svd(conf12_male_processed)\n",
    "    conf12_male_processed = conf12_male_processed[:, :conf12_male_processed_rank]\n",
    "\n",
    "\n",
    "if os.path.exists('male_testA_conf12.h5'):\n",
    "    os.remove('male_testA_conf12.h5')\n",
    "h5f = h5py.File('male_testA_conf12.h5', 'w')\n",
    "h5f.create_dataset('subjects', data=subjects_male)\n",
    "h5f.create_dataset('conf12', data=conf12_male)\n",
    "h5f.create_dataset('conf12proc', data=conf12_male_processed)\n",
    "h5f.close()"
   ]
  },
  {
   "cell_type": "code",
   "execution_count": 14,
   "metadata": {},
   "outputs": [],
   "source": [
    "subjects_male = []\n",
    "conf12_male = []\n",
    "\n",
    "for subject in male_testB:\n",
    "    subj = subject - 20000000\n",
    "    if subj in subject_IDs_unique:\n",
    "        idx = np.where(subject_IDs_unique == subj)\n",
    "        subjects_male.append(subject)\n",
    "        conf12_male.append(conf12[idx].flatten())\n",
    "        \n",
    "subjects_male = np.array(subjects_male)\n",
    "conf12_male = np.array(conf12_male)\n",
    "\n",
    "conf12_male_processed = conf12_male - conf12_male.mean(axis=0)\n",
    "conf12_male_processed_rank = np.linalg.matrix_rank(conf12_male_processed)\n",
    "if np.sum(np.isnan(conf12_male_processed)) == 0:\n",
    "    conf12_male_processed,_,_ = svd(conf12_male_processed)\n",
    "    conf12_male_processed = conf12_male_processed[:, :conf12_male_processed_rank]\n",
    "\n",
    "\n",
    "if os.path.exists('male_testB_conf12.h5'):\n",
    "    os.remove('male_testB_conf12.h5')\n",
    "h5f = h5py.File('male_testB_conf12.h5', 'w')\n",
    "h5f.create_dataset('subjects', data=subjects_male)\n",
    "h5f.create_dataset('conf12', data=conf12_male)\n",
    "h5f.create_dataset('conf12proc', data=conf12_male_processed)\n",
    "h5f.close()"
   ]
  },
  {
   "cell_type": "code",
   "execution_count": 18,
   "metadata": {},
   "outputs": [],
   "source": [
    "subjects_female = []\n",
    "conf12_female = []\n",
    "\n",
    "for subject in female_testB:\n",
    "    subj = subject - 20000000\n",
    "    if subj in subject_IDs_unique:\n",
    "        idx = np.where(subject_IDs_unique == subj)\n",
    "        subjects_female.append(subject)\n",
    "        conf12_female.append(conf12[idx].flatten())\n",
    "        \n",
    "subjects_female = np.array(subjects_female)\n",
    "conf12_female = np.array(conf12_female)\n",
    "\n",
    "conf12_female_processed = conf12_female - conf12_female.mean(axis=0)\n",
    "conf12_female_processed_rank = np.linalg.matrix_rank(conf12_female_processed)\n",
    "if np.sum(np.isnan(conf12_female_processed)) == 0:\n",
    "    conf12_female_processed,_,_ = svd(conf12_female_processed)\n",
    "    conf12_female_processed = conf12_female_processed[:, :conf12_female_processed_rank]\n",
    "\n",
    "\n",
    "if os.path.exists('female_testB_conf12.h5'):\n",
    "    os.remove('female_testB_conf12.h5')\n",
    "h5f = h5py.File('female_testB_conf12.h5', 'w')\n",
    "h5f.create_dataset('subjects', data=subjects_female)\n",
    "h5f.create_dataset('conf12', data=conf12_female)\n",
    "h5f.create_dataset('conf12proc', data=conf12_female_processed)\n",
    "h5f.close()"
   ]
  },
  {
   "cell_type": "code",
   "execution_count": 19,
   "metadata": {},
   "outputs": [],
   "source": [
    "subjects_male = []\n",
    "conf12_male = []\n",
    "\n",
    "for subject in male_validation:\n",
    "    subj = subject - 20000000\n",
    "    if subj in subject_IDs_unique:\n",
    "        idx = np.where(subject_IDs_unique == subj)\n",
    "        subjects_male.append(subject)\n",
    "        conf12_male.append(conf12[idx].flatten())\n",
    "        \n",
    "subjects_male = np.array(subjects_male)\n",
    "conf12_male = np.array(conf12_male)\n",
    "\n",
    "conf12_male_processed = conf12_male - conf12_male.mean(axis=0)\n",
    "conf12_male_processed_rank = np.linalg.matrix_rank(conf12_male_processed)\n",
    "if np.sum(np.isnan(conf12_male_processed)) == 0:\n",
    "    conf12_male_processed,_,_ = svd(conf12_male_processed)\n",
    "    conf12_male_processed = conf12_male_processed[:, :conf12_male_processed_rank]\n",
    "\n",
    "\n",
    "if os.path.exists('male_validation_conf12.h5'):\n",
    "    os.remove('male_validation_conf12.h5')\n",
    "h5f = h5py.File('male_validation_conf12.h5', 'w')\n",
    "h5f.create_dataset('subjects', data=subjects_male)\n",
    "h5f.create_dataset('conf12', data=conf12_male)\n",
    "h5f.create_dataset('conf12proc', data=conf12_male_processed)\n",
    "h5f.close()"
   ]
  },
  {
   "cell_type": "code",
   "execution_count": 20,
   "metadata": {},
   "outputs": [],
   "source": [
    "subjects_female = []\n",
    "conf12_female = []\n",
    "\n",
    "for subject in female_test:\n",
    "    subj = subject - 20000000\n",
    "    if subj in subject_IDs_unique:\n",
    "        idx = np.where(subject_IDs_unique == subj)\n",
    "        subjects_female.append(subject)\n",
    "        conf12_female.append(conf12[idx].flatten())\n",
    "        \n",
    "subjects_female = np.array(subjects_female)\n",
    "conf12_female = np.array(conf12_female)\n",
    "\n",
    "conf12_female_processed = conf12_female - conf12_female.mean(axis=0)\n",
    "conf12_female_processed_rank = np.linalg.matrix_rank(conf12_female_processed)\n",
    "if np.sum(np.isnan(conf12_female_processed)) == 0:\n",
    "    conf12_female_processed,_,_ = svd(conf12_female_processed)\n",
    "    conf12_female_processed = conf12_female_processed[:, :conf12_female_processed_rank]\n",
    "\n",
    "if os.path.exists('female_test_conf12.h5'):\n",
    "    os.remove('female_test_conf12.h5')\n",
    "h5f = h5py.File('female_test_conf12.h5', 'w')\n",
    "h5f.create_dataset('subjects', data=subjects_female)\n",
    "h5f.create_dataset('conf12', data=conf12_female)\n",
    "h5f.create_dataset('conf12proc', data=conf12_female_processed)\n",
    "h5f.close()"
   ]
  },
  {
   "cell_type": "code",
   "execution_count": 21,
   "metadata": {},
   "outputs": [],
   "source": [
    "subjects_female = []\n",
    "conf12_female = []\n",
    "\n",
    "for subject in female_validation:\n",
    "    subj = subject - 20000000\n",
    "    if subj in subject_IDs_unique:\n",
    "        idx = np.where(subject_IDs_unique == subj)\n",
    "        subjects_female.append(subject)\n",
    "        conf12_female.append(conf12[idx].flatten())\n",
    "        \n",
    "subjects_female = np.array(subjects_female)\n",
    "conf12_female = np.array(conf12_female)\n",
    "\n",
    "conf12_female_processed = conf12_female - conf12_female.mean(axis=0)\n",
    "conf12_female_processed_rank = np.linalg.matrix_rank(conf12_female_processed)\n",
    "if np.sum(np.isnan(conf12_female_processed)) == 0:\n",
    "    conf12_female_processed,_,_ = svd(conf12_female_processed)\n",
    "    conf12_female_processed = conf12_female_processed[:, :conf12_female_processed_rank]\n",
    "\n",
    "if os.path.exists('female_validation_conf12.h5'):\n",
    "    os.remove('female_validation_conf12.h5')\n",
    "h5f = h5py.File('female_validation_conf12.h5', 'w')\n",
    "h5f.create_dataset('subjects', data=subjects_female)\n",
    "h5f.create_dataset('conf12', data=conf12_female)\n",
    "h5f.create_dataset('conf12proc', data=conf12_female_processed)\n",
    "h5f.close()"
   ]
  },
  {
   "cell_type": "code",
   "execution_count": 22,
   "metadata": {},
   "outputs": [
    {
     "name": "stdout",
     "output_type": "stream",
     "text": [
      "(1255, 613)\n"
     ]
    }
   ],
   "source": [
    "print(conf12_female.shape)"
   ]
  },
  {
   "cell_type": "code",
   "execution_count": 23,
   "metadata": {},
   "outputs": [
    {
     "data": {
      "text/plain": [
       "<KeysViewHDF5 ['conf12', 'conf12proc', 'subjects']>"
      ]
     },
     "execution_count": 23,
     "metadata": {},
     "output_type": "execute_result"
    }
   ],
   "source": [
    "test = h5py.File('male_testB_conf12.h5', 'r')\n",
    "test.keys()"
   ]
  },
  {
   "cell_type": "code",
   "execution_count": 24,
   "metadata": {},
   "outputs": [
    {
     "name": "stdout",
     "output_type": "stream",
     "text": [
      "conf12 (2182, 613)\n",
      "conf12proc (2182, 546)\n",
      "subjects (2182,)\n"
     ]
    }
   ],
   "source": [
    "for key in list(test.keys()):\n",
    "    print(key, test[key].shape)"
   ]
  },
  {
   "cell_type": "markdown",
   "metadata": {},
   "source": [
    "# 2. Male and Female Scan-Rescan Test Datasets for nIDPs and IDPs"
   ]
  },
  {
   "cell_type": "code",
   "execution_count": 54,
   "metadata": {},
   "outputs": [
    {
     "data": {
      "text/plain": [
       "<KeysViewHDF5 ['conf12', 'subjects']>"
      ]
     },
     "execution_count": 54,
     "metadata": {},
     "output_type": "execute_result"
    }
   ],
   "source": [
    "test.keys()"
   ]
  },
  {
   "cell_type": "code",
   "execution_count": 55,
   "metadata": {},
   "outputs": [
    {
     "data": {
      "text/plain": [
       "array([24806531, 24237795, 24748274, 25463415, 25313661])"
      ]
     },
     "execution_count": 55,
     "metadata": {},
     "output_type": "execute_result"
    }
   ],
   "source": [
    "test['subjects'][()][0:5]"
   ]
  },
  {
   "cell_type": "code",
   "execution_count": 56,
   "metadata": {},
   "outputs": [
    {
     "data": {
      "text/plain": [
       "<HDF5 dataset \"conf12\": shape (5021, 613), type \"<f8\">"
      ]
     },
     "execution_count": 56,
     "metadata": {},
     "output_type": "execute_result"
    }
   ],
   "source": [
    "test['conf12']"
   ]
  },
  {
   "cell_type": "code",
   "execution_count": null,
   "metadata": {},
   "outputs": [],
   "source": []
  }
 ],
 "metadata": {
  "kernelspec": {
   "display_name": "Python 3 (ipykernel)",
   "language": "python",
   "name": "python3"
  },
  "language_info": {
   "codemirror_mode": {
    "name": "ipython",
    "version": 3
   },
   "file_extension": ".py",
   "mimetype": "text/x-python",
   "name": "python",
   "nbconvert_exporter": "python",
   "pygments_lexer": "ipython3",
   "version": "3.10.4"
  }
 },
 "nbformat": 4,
 "nbformat_minor": 4
}
