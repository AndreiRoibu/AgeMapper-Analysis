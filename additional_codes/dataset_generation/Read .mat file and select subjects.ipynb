{
 "cells": [
  {
   "cell_type": "markdown",
   "metadata": {},
   "source": [
    "# Full Code "
   ]
  },
  {
   "cell_type": "markdown",
   "metadata": {},
   "source": [
    "Useful Information Here:\n",
    "\n",
    "https://docs.google.com/document/d/1xObm8cExm-HuHbpRf9fkKIraHx9RC2uuxISgNAFjxEw/edit\n",
    "https://drive.google.com/file/d/1vV6fYtV0mbuLqMn2iuQtx_41Ktu_FZad/view"
   ]
  },
  {
   "cell_type": "markdown",
   "metadata": {},
   "source": [
    "Matlab workspace with lots of imaging IDPs and non-imaging variables pre-loaded and sorted\n",
    "\n",
    "These exist at FMRIB in:  */vols/Data/ukbiobank/FMRIB/ANALYSIS*\n",
    "\n",
    "A matlab workspace (40k subjects) is:  workspace12b.mat \n",
    "\n",
    "The scripts used to generate this workspace are in folder DO_12\n",
    "\n",
    "A shorter  friendly example script is at  tinyurl.com/ukbmatlabwin\n",
    "\n",
    "Interpretation of some aspects (e.g., visualization of nodes and edges) can be helped via the http://www.fmrib.ox.ac.uk/ukbiobank/ resources page; for example, you can look up an edge number to see what nodes it joins, and visualise the volumetric maps for nodes and edges.\n"
   ]
  },
  {
   "cell_type": "markdown",
   "metadata": {},
   "source": [
    "**To get to the workspace12b file, do the following:**\n",
    "\n",
    "```bash\n",
    "\n",
    "ssh aroibu@jalapeno.fmrib.ox.ac.uk\n",
    "\n",
    "ssh jalapeno18\n",
    "\n",
    "source scratch/env/bin/activate\n",
    "\n",
    "pwd\n",
    "\n",
    "du -sh ../../../vols/Data/ukbiobank/FMRIB/ANALYSIS/workspace12b.mat\n",
    "\n",
    "\n",
    "/vols/Data/ukbiobank/FMRIB/ANALYSIS/DO_12 -- path to DO_12\n",
    "/vols/Data/ukbiobank/FMRIB/ANALYSIS\n",
    "\n",
    "```"
   ]
  },
  {
   "cell_type": "code",
   "execution_count": null,
   "metadata": {},
   "outputs": [],
   "source": [
    "import numpy as np\n",
    "import pandas as pd\n",
    "import scipy\n",
    "from scipy.io import loadmat\n",
    "import pickle\n",
    "\n",
    "# path_to_file = '../../../Data/ukbiobank/FMRIB/ANALYSIS/workspace12b_imaging.mat'\n",
    "path_to_file = '../../../Data/ukbiobank/FMRIB/ANALYSIS/workspace12eBETA.mat'\n",
    "\n",
    "annots = loadmat(path_to_file)\n",
    "# print(annots)\n",
    "\n",
    "keys_keep = ['age1', 'age2', 'sex12', 'scan_number', 'subject_IDs', 'subject_IDs_orig', 'subject_IDs_unique']\n",
    "\n",
    "keys = []\n",
    "for key in annots.keys():\n",
    "    keys.append(key)\n",
    "\n",
    "keys_discard = list(set(keys) - set(keys_keep))\n",
    "\n",
    "for key in keys_discard:\n",
    "    del annots[key]\n",
    "    \n",
    "for key in annots.keys():\n",
    "    annots[key]=annots[key].ravel()\n",
    "    \n",
    "for key in annots.keys():\n",
    "    print(key, annots[key].shape)\n",
    "    \n",
    "file = open('reduced_workspace12_age.pkl', 'wb')\n",
    "pickle.dump(annots, file)\n",
    "file.close()"
   ]
  },
  {
   "cell_type": "code",
   "execution_count": null,
   "metadata": {},
   "outputs": [],
   "source": []
  }
 ],
 "metadata": {
  "kernelspec": {
   "display_name": "Python 3",
   "language": "python",
   "name": "python3"
  },
  "language_info": {
   "codemirror_mode": {
    "name": "ipython",
    "version": 3
   },
   "file_extension": ".py",
   "mimetype": "text/x-python",
   "name": "python",
   "nbconvert_exporter": "python",
   "pygments_lexer": "ipython3",
   "version": "3.8.2"
  }
 },
 "nbformat": 4,
 "nbformat_minor": 4
}
