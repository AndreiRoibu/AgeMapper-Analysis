{
 "cells": [
  {
   "cell_type": "code",
   "execution_count": 1,
   "metadata": {},
   "outputs": [],
   "source": [
    "import numpy as np"
   ]
  },
  {
   "cell_type": "markdown",
   "metadata": {},
   "source": [
    "FOR THE TRAIN DATABASE\n",
    "Male min, max, average: 45.12545662100456 82.26312785388131 63.370316719492536\n",
    "Female min, max, average: 45.451940639269424 82.17979452054806 64.64810970818492"
   ]
  },
  {
   "cell_type": "code",
   "execution_count": 2,
   "metadata": {},
   "outputs": [],
   "source": [
    "male_mean = 63.370316719492536\n",
    "female_mean = 64.64810970818492"
   ]
  },
  {
   "cell_type": "code",
   "execution_count": 3,
   "metadata": {},
   "outputs": [
    {
     "name": "stdout",
     "output_type": "stream",
     "text": [
      "female_test_age.npy       female_validation_age.npy male_train_age.npy\r\n",
      "female_train_age.npy      male_test_age.npy         male_validation_age.npy\r\n"
     ]
    }
   ],
   "source": [
    "!ls *_age.npy"
   ]
  },
  {
   "cell_type": "code",
   "execution_count": 4,
   "metadata": {},
   "outputs": [
    {
     "name": "stdout",
     "output_type": "stream",
     "text": [
      "female_test_age_small.npy       male_test_age_small.npy\r\n",
      "female_train_age_small.npy      male_train_age_small.npy\r\n",
      "female_validation_age_small.npy male_validation_age_small.npy\r\n"
     ]
    }
   ],
   "source": [
    "!ls *_age_small.npy"
   ]
  },
  {
   "cell_type": "markdown",
   "metadata": {},
   "source": [
    "# Large Male"
   ]
  },
  {
   "cell_type": "code",
   "execution_count": 5,
   "metadata": {},
   "outputs": [
    {
     "data": {
      "text/plain": [
       "6.419506226011377"
      ]
     },
     "execution_count": 5,
     "metadata": {},
     "output_type": "execute_result"
    }
   ],
   "source": [
    "# For the Large Train Dataset - Male\n",
    "data = np.load('male_train_age.npy')\n",
    "np.abs( data - data.mean() ).mean()"
   ]
  },
  {
   "cell_type": "code",
   "execution_count": 6,
   "metadata": {},
   "outputs": [
    {
     "data": {
      "text/plain": [
       "6.323424069983069"
      ]
     },
     "execution_count": 6,
     "metadata": {},
     "output_type": "execute_result"
    }
   ],
   "source": [
    "# For the Large Test Dataset - Male\n",
    "data = np.load('male_validation_age.npy')\n",
    "np.abs( data - data.mean() ).mean()"
   ]
  },
  {
   "cell_type": "code",
   "execution_count": 7,
   "metadata": {},
   "outputs": [
    {
     "data": {
      "text/plain": [
       "6.323424069983069"
      ]
     },
     "execution_count": 7,
     "metadata": {},
     "output_type": "execute_result"
    }
   ],
   "source": [
    "# For the Large Validatiom Dataset - Male\n",
    "data = np.load('male_validation_age.npy')\n",
    "np.abs( data - data.mean() ).mean()"
   ]
  },
  {
   "cell_type": "code",
   "execution_count": 8,
   "metadata": {},
   "outputs": [
    {
     "data": {
      "text/plain": [
       "6.383114699286035"
      ]
     },
     "execution_count": 8,
     "metadata": {},
     "output_type": "execute_result"
    }
   ],
   "source": [
    "# For the Large Train Dataset - Male with Test\n",
    "data = np.load('male_test_age.npy')\n",
    "np.abs( data - np.load('male_train_age.npy').mean() ).mean()"
   ]
  },
  {
   "cell_type": "code",
   "execution_count": 9,
   "metadata": {},
   "outputs": [
    {
     "data": {
      "text/plain": [
       "6.32011415408354"
      ]
     },
     "execution_count": 9,
     "metadata": {},
     "output_type": "execute_result"
    }
   ],
   "source": [
    "# For the Large Train Dataset - Male with Validation \n",
    "data = np.load('male_validation_age.npy')\n",
    "np.abs( data - np.load('male_train_age.npy').mean() ).mean()"
   ]
  },
  {
   "cell_type": "markdown",
   "metadata": {},
   "source": [
    "# Large Female"
   ]
  },
  {
   "cell_type": "code",
   "execution_count": 10,
   "metadata": {},
   "outputs": [
    {
     "data": {
      "text/plain": [
       "6.176036428097642"
      ]
     },
     "execution_count": 10,
     "metadata": {},
     "output_type": "execute_result"
    }
   ],
   "source": [
    "# For the Large Train Dataset - Female\n",
    "data = np.load('female_train_age.npy')\n",
    "np.abs( data - data.mean() ).mean()"
   ]
  },
  {
   "cell_type": "code",
   "execution_count": 11,
   "metadata": {},
   "outputs": [
    {
     "data": {
      "text/plain": [
       "6.123885124797464"
      ]
     },
     "execution_count": 11,
     "metadata": {},
     "output_type": "execute_result"
    }
   ],
   "source": [
    "# For the Large Test Dataset - Female\n",
    "data = np.load('female_test_age.npy')\n",
    "np.abs( data - data.mean() ).mean()"
   ]
  },
  {
   "cell_type": "code",
   "execution_count": 12,
   "metadata": {},
   "outputs": [
    {
     "data": {
      "text/plain": [
       "6.185190777510921"
      ]
     },
     "execution_count": 12,
     "metadata": {},
     "output_type": "execute_result"
    }
   ],
   "source": [
    "# For the Large Validation Dataset - Female\n",
    "data = np.load('female_validation_age.npy')\n",
    "np.abs( data - data.mean() ).mean()"
   ]
  },
  {
   "cell_type": "code",
   "execution_count": 13,
   "metadata": {},
   "outputs": [
    {
     "data": {
      "text/plain": [
       "6.1200380417188835"
      ]
     },
     "execution_count": 13,
     "metadata": {},
     "output_type": "execute_result"
    }
   ],
   "source": [
    "# For the Large Train Dataset - Male with Test\n",
    "data = np.load('female_test_age.npy')\n",
    "np.abs( data - np.load('female_train_age.npy').mean() ).mean()"
   ]
  },
  {
   "cell_type": "code",
   "execution_count": 14,
   "metadata": {},
   "outputs": [
    {
     "data": {
      "text/plain": [
       "6.187439200929705"
      ]
     },
     "execution_count": 14,
     "metadata": {},
     "output_type": "execute_result"
    }
   ],
   "source": [
    "# For the Large Train Dataset - Male with Validation \n",
    "data = np.load('female_validation_age.npy')\n",
    "np.abs( data - np.load('female_train_age.npy').mean() ).mean()"
   ]
  },
  {
   "cell_type": "markdown",
   "metadata": {},
   "source": [
    "# Small Male"
   ]
  },
  {
   "cell_type": "code",
   "execution_count": 15,
   "metadata": {},
   "outputs": [
    {
     "data": {
      "text/plain": [
       "6.431654342717765"
      ]
     },
     "execution_count": 15,
     "metadata": {},
     "output_type": "execute_result"
    }
   ],
   "source": [
    "# For the Small Train Dataset - Male\n",
    "data = np.load('male_train_age_small.npy')\n",
    "np.abs( data - data.mean() ).mean()"
   ]
  },
  {
   "cell_type": "code",
   "execution_count": 16,
   "metadata": {},
   "outputs": [
    {
     "data": {
      "text/plain": [
       "6.081037970521748"
      ]
     },
     "execution_count": 16,
     "metadata": {},
     "output_type": "execute_result"
    }
   ],
   "source": [
    "# For the Small Test Dataset - Male\n",
    "data = np.load('male_test_age_small.npy')\n",
    "np.abs( data - data.mean() ).mean()"
   ]
  },
  {
   "cell_type": "code",
   "execution_count": 17,
   "metadata": {},
   "outputs": [
    {
     "data": {
      "text/plain": [
       "6.607294313459089"
      ]
     },
     "execution_count": 17,
     "metadata": {},
     "output_type": "execute_result"
    }
   ],
   "source": [
    "# For the Small Val Dataset - Male\n",
    "data = np.load('male_validation_age_small.npy')\n",
    "np.abs( data - data.mean() ).mean()"
   ]
  },
  {
   "cell_type": "code",
   "execution_count": 18,
   "metadata": {},
   "outputs": [
    {
     "data": {
      "text/plain": [
       "6.120679870626545"
      ]
     },
     "execution_count": 18,
     "metadata": {},
     "output_type": "execute_result"
    }
   ],
   "source": [
    "# For the Large Train Dataset - Male with Test\n",
    "data = np.load('male_test_age_small.npy')\n",
    "np.abs( data - np.load('male_train_age_small.npy').mean() ).mean()"
   ]
  },
  {
   "cell_type": "code",
   "execution_count": 19,
   "metadata": {},
   "outputs": [
    {
     "data": {
      "text/plain": [
       "6.634739135279585"
      ]
     },
     "execution_count": 19,
     "metadata": {},
     "output_type": "execute_result"
    }
   ],
   "source": [
    "# For the Large Train Dataset - Male with Validation \n",
    "data = np.load('male_validation_age_small.npy')\n",
    "np.abs( data - np.load('male_train_age_small.npy').mean() ).mean()"
   ]
  },
  {
   "cell_type": "markdown",
   "metadata": {},
   "source": [
    "# Small Female"
   ]
  },
  {
   "cell_type": "code",
   "execution_count": 20,
   "metadata": {},
   "outputs": [
    {
     "data": {
      "text/plain": [
       "6.166207187588889"
      ]
     },
     "execution_count": 20,
     "metadata": {},
     "output_type": "execute_result"
    }
   ],
   "source": [
    "# For the Small Train Dataset - Female\n",
    "data = np.load('female_train_age_small.npy')\n",
    "np.abs( data - data.mean() ).mean()"
   ]
  },
  {
   "cell_type": "code",
   "execution_count": 21,
   "metadata": {},
   "outputs": [
    {
     "data": {
      "text/plain": [
       "6.248465935743693"
      ]
     },
     "execution_count": 21,
     "metadata": {},
     "output_type": "execute_result"
    }
   ],
   "source": [
    "# For the Small Test Dataset - female\n",
    "data = np.load('female_test_age_small.npy')\n",
    "np.abs( data - data.mean() ).mean()"
   ]
  },
  {
   "cell_type": "code",
   "execution_count": 22,
   "metadata": {},
   "outputs": [
    {
     "data": {
      "text/plain": [
       "6.087610419103225"
      ]
     },
     "execution_count": 22,
     "metadata": {},
     "output_type": "execute_result"
    }
   ],
   "source": [
    "# For the Small Val Dataset - Female\n",
    "data = np.load('female_validation_age_small.npy')\n",
    "np.abs( data - data.mean() ).mean()"
   ]
  },
  {
   "cell_type": "code",
   "execution_count": 23,
   "metadata": {},
   "outputs": [
    {
     "data": {
      "text/plain": [
       "6.253334706078298"
      ]
     },
     "execution_count": 23,
     "metadata": {},
     "output_type": "execute_result"
    }
   ],
   "source": [
    "# For the Large Train Dataset - Male with Test\n",
    "data = np.load('female_test_age_small.npy')\n",
    "np.abs( data - np.load('female_train_age_small.npy').mean() ).mean()"
   ]
  },
  {
   "cell_type": "code",
   "execution_count": 24,
   "metadata": {},
   "outputs": [
    {
     "data": {
      "text/plain": [
       "6.0982557878583705"
      ]
     },
     "execution_count": 24,
     "metadata": {},
     "output_type": "execute_result"
    }
   ],
   "source": [
    "# For the Large Train Dataset - Male with Validation \n",
    "data = np.load('female_validation_age_small.npy')\n",
    "np.abs( data - np.load('female_train_age_small.npy').mean() ).mean()"
   ]
  },
  {
   "cell_type": "code",
   "execution_count": null,
   "metadata": {},
   "outputs": [],
   "source": []
  }
 ],
 "metadata": {
  "kernelspec": {
   "display_name": "Python 3 (ipykernel)",
   "language": "python",
   "name": "python3"
  },
  "language_info": {
   "codemirror_mode": {
    "name": "ipython",
    "version": 3
   },
   "file_extension": ".py",
   "mimetype": "text/x-python",
   "name": "python",
   "nbconvert_exporter": "python",
   "pygments_lexer": "ipython3",
   "version": "3.8.2"
  }
 },
 "nbformat": 4,
 "nbformat_minor": 4
}
