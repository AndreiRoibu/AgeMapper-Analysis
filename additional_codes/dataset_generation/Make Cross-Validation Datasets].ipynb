{
 "cells": [
  {
   "cell_type": "code",
   "execution_count": 1,
   "metadata": {},
   "outputs": [],
   "source": [
    "import numpy as np\n",
    "import pandas as pd"
   ]
  },
  {
   "cell_type": "code",
   "execution_count": 2,
   "metadata": {},
   "outputs": [],
   "source": [
    "male_train_small = np.loadtxt('male_train_small.txt', dtype=str)\n",
    "male_validation_small = np.loadtxt('male_validation_small.txt', dtype=str)"
   ]
  },
  {
   "cell_type": "code",
   "execution_count": 3,
   "metadata": {},
   "outputs": [],
   "source": [
    "male_validation_small1 = male_train_small[:1000]\n",
    "male_validation_small2 = male_train_small[1000:-1000]\n",
    "male_validation_small3 = male_train_small[-1000:]"
   ]
  },
  {
   "cell_type": "code",
   "execution_count": 4,
   "metadata": {},
   "outputs": [],
   "source": [
    "male_train_small1 = np.append(male_train_small[1000:], male_validation_small)\n",
    "male_train_small2 = np.append(male_train_small[:1000], [male_train_small[-1000:], male_validation_small])\n",
    "male_train_small3 = np.append(male_train_small[:-1000], male_validation_small)"
   ]
  },
  {
   "cell_type": "code",
   "execution_count": 5,
   "metadata": {},
   "outputs": [
    {
     "data": {
      "text/plain": [
       "(3000,)"
      ]
     },
     "execution_count": 5,
     "metadata": {},
     "output_type": "execute_result"
    }
   ],
   "source": [
    "male_train_small3.shape"
   ]
  },
  {
   "cell_type": "code",
   "execution_count": 6,
   "metadata": {},
   "outputs": [
    {
     "data": {
      "text/plain": [
       "(1000,)"
      ]
     },
     "execution_count": 6,
     "metadata": {},
     "output_type": "execute_result"
    }
   ],
   "source": [
    "male_validation_small3.shape"
   ]
  },
  {
   "cell_type": "code",
   "execution_count": 7,
   "metadata": {},
   "outputs": [
    {
     "name": "stdout",
     "output_type": "stream",
     "text": [
      "True\n",
      "True\n",
      "True\n",
      "True\n"
     ]
    }
   ],
   "source": [
    "print((np.in1d(male_validation_small, male_train_small) == False).all())\n",
    "print((np.in1d(male_validation_small1, male_train_small1) == False).all())\n",
    "print((np.in1d(male_validation_small2, male_train_small2) == False).all())\n",
    "print((np.in1d(male_validation_small3, male_train_small3) == False).all())"
   ]
  },
  {
   "cell_type": "code",
   "execution_count": 8,
   "metadata": {},
   "outputs": [
    {
     "name": "stdout",
     "output_type": "stream",
     "text": [
      "False\n"
     ]
    }
   ],
   "source": [
    "print((np.in1d(male_train_small, male_validation_small1) == False).all())"
   ]
  },
  {
   "cell_type": "code",
   "execution_count": 9,
   "metadata": {},
   "outputs": [
    {
     "data": {
      "text/plain": [
       "array([ True,  True,  True, ..., False, False, False])"
      ]
     },
     "execution_count": 9,
     "metadata": {},
     "output_type": "execute_result"
    }
   ],
   "source": [
    "np.in1d(male_train_small, male_validation_small1) "
   ]
  },
  {
   "cell_type": "code",
   "execution_count": 10,
   "metadata": {},
   "outputs": [],
   "source": [
    "np.savetxt('male_train_small1.txt', male_train_small1, fmt='%s')\n",
    "np.savetxt('male_train_small2.txt', male_train_small2, fmt='%s')\n",
    "np.savetxt('male_train_small3.txt', male_train_small3, fmt='%s')\n",
    "np.savetxt('male_validation_small1.txt', male_validation_small1, fmt='%s')\n",
    "np.savetxt('male_validation_small2.txt', male_validation_small2, fmt='%s')\n",
    "np.savetxt('male_validation_small3.txt', male_validation_small3, fmt='%s')"
   ]
  },
  {
   "cell_type": "code",
   "execution_count": 11,
   "metadata": {},
   "outputs": [],
   "source": [
    "# np.save('male_train_age_small.npy', male_train_age_small)\n",
    "# np.save('male_test_age_small.npy', male_test_age_small)\n",
    "# np.save('male_validation_age_small.npy', male_validation_age_small)"
   ]
  },
  {
   "cell_type": "code",
   "execution_count": 12,
   "metadata": {},
   "outputs": [],
   "source": [
    "male_train_age_small = np.load('male_train_age_small.npy')\n",
    "male_validation_age_small = np.load('male_validation_age_small.npy')"
   ]
  },
  {
   "cell_type": "code",
   "execution_count": 13,
   "metadata": {},
   "outputs": [],
   "source": [
    "male_validation_age_small1 = male_train_age_small[:1000]\n",
    "male_validation_age_small2 = male_train_age_small[1000:-1000]\n",
    "male_validation_age_small3 = male_train_age_small[-1000:]\n",
    "\n",
    "male_train_age_small1 = np.append(male_train_age_small[1000:], male_validation_age_small)\n",
    "male_train_age_small2 = np.append(male_train_age_small[:1000], [male_train_age_small[-1000:], male_validation_age_small])\n",
    "male_train_age_small3 = np.append(male_train_age_small[:-1000], male_validation_age_small)"
   ]
  },
  {
   "cell_type": "code",
   "execution_count": 14,
   "metadata": {},
   "outputs": [
    {
     "name": "stdout",
     "output_type": "stream",
     "text": [
      "False\n",
      "False\n",
      "False\n",
      "False\n"
     ]
    }
   ],
   "source": [
    "print((np.in1d(male_validation_age_small, male_train_age_small) == False).all())\n",
    "print((np.in1d(male_validation_age_small1, male_train_age_small1) == False).all())\n",
    "print((np.in1d(male_validation_age_small2, male_train_age_small2) == False).all())\n",
    "print((np.in1d(male_validation_age_small3, male_train_age_small3) == False).all())"
   ]
  },
  {
   "cell_type": "code",
   "execution_count": 15,
   "metadata": {},
   "outputs": [
    {
     "data": {
      "text/plain": [
       "(1000,)"
      ]
     },
     "execution_count": 15,
     "metadata": {},
     "output_type": "execute_result"
    }
   ],
   "source": [
    "male_validation_age_small1.shape"
   ]
  },
  {
   "cell_type": "code",
   "execution_count": 16,
   "metadata": {},
   "outputs": [],
   "source": [
    "np.save('male_validation_age_small1.npy', male_validation_age_small1)\n",
    "np.save('male_validation_age_small2.npy', male_validation_age_small2)\n",
    "np.save('male_validation_age_small3.npy', male_validation_age_small3)\n",
    "np.save('male_train_age_small1.npy', male_train_age_small1)\n",
    "np.save('male_train_age_small2.npy', male_train_age_small2)\n",
    "np.save('male_train_age_small3.npy', male_train_age_small3)"
   ]
  },
  {
   "cell_type": "code",
   "execution_count": null,
   "metadata": {},
   "outputs": [],
   "source": []
  }
 ],
 "metadata": {
  "kernelspec": {
   "display_name": "Python 3",
   "language": "python",
   "name": "python3"
  },
  "language_info": {
   "codemirror_mode": {
    "name": "ipython",
    "version": 3
   },
   "file_extension": ".py",
   "mimetype": "text/x-python",
   "name": "python",
   "nbconvert_exporter": "python",
   "pygments_lexer": "ipython3",
   "version": "3.8.2"
  }
 },
 "nbformat": 4,
 "nbformat_minor": 4
}
