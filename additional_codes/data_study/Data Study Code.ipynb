version https://git-lfs.github.com/spec/v1
oid sha256:2c812a5ca00cb793331bb906d5844acbe58ae67d355a1565b2a0a269c2d02134
size 23034
